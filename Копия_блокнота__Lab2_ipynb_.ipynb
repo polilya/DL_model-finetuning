{
  "cells": [
    {
      "cell_type": "markdown",
      "metadata": {
        "tags": [],
        "id": "tjL_FU-myL4T"
      },
      "source": [
        "\n",
        "# Лабораторная 2 - Обучение сверточной сети на CIFAR10\n",
        "**NB**: отредактированная версия [этой лабораторной](https://github.com/karfly/learning-deep-learning/blob/master/03_cnn/seminar_cifar10.ipynb)"
      ]
    },
    {
      "cell_type": "markdown",
      "metadata": {
        "id": "xexH2Z1fyL4Z"
      },
      "source": [
        "В данном задании нужно обучить две версии нейронной сети\n",
        "1. Модель написаную с нуля\n",
        "2. дообучить готовую модель\n",
        "\n",
        "<img src=\"https://pytorch.org/tutorials/_images/cifar10.png\" align=\"center\"/>\n",
        "\n",
        "**CIFAR10** - датасет изображений 32x32 с 10ью классами. Главное отличие в том, что изображения цветные. В нем хрянятся следующие классы:  `airplane`, `automobile`, `bird`, `cat`, `deer`.\n",
        "`dog`, `frog`, `horse`, `ship`, `truck`."
      ]
    },
    {
      "cell_type": "markdown",
      "metadata": {
        "id": "tg6NSeXCyL4a"
      },
      "source": [
        "## Задача 1 (2 балла). Обучение модели с нуля"
      ]
    },
    {
      "cell_type": "markdown",
      "metadata": {
        "id": "7l8X27qhyL4c"
      },
      "source": [
        "### 1. Загрузка CIFAR10\n",
        "Добавим библиотеки"
      ]
    },
    {
      "cell_type": "code",
      "execution_count": 2,
      "metadata": {
        "id": "_e1U6KZqyL4c"
      },
      "outputs": [],
      "source": [
        "import torch\n",
        "import torchvision\n",
        "import torchvision.transforms as transforms\n",
        "\n",
        "batch_size = 4\n",
        "device = torch.device(\"cuda\") if torch.cuda.is_available() else torch.device(\"cpu\")"
      ]
    },
    {
      "cell_type": "markdown",
      "metadata": {
        "id": "7VYMk69hyL4e"
      },
      "source": [
        "Определим CIFAR10 классы:"
      ]
    },
    {
      "cell_type": "code",
      "execution_count": 3,
      "metadata": {
        "id": "zIucP2JqyL4e"
      },
      "outputs": [],
      "source": [
        "classes = ('plane', 'car', 'bird', 'cat', 'deer', 'dog', 'frog', 'horse', 'ship', 'truck')"
      ]
    },
    {
      "cell_type": "markdown",
      "metadata": {
        "id": "0lKDk2qhyL4f"
      },
      "source": [
        "Определим порядок предобработки. На выходе датасет выдает PILImage в диапазоне [0, 1]. Мы его превратим в  torch.Tensor. Затем, сделаем нормализацию (Whitening). \n",
        "\n",
        "Вопрос: **Зачем нормализуют изображения?** [1](https://stackoverflow.com/questions/58151507/why-pytorch-officially-use-mean-0-485-0-456-0-406-and-std-0-229-0-224-0-2)"
      ]
    },
    {
      "cell_type": "code",
      "execution_count": 4,
      "metadata": {
        "id": "fVsbZNXAyL4g"
      },
      "outputs": [],
      "source": [
        "transform = transforms.Compose([\n",
        "    transforms.ToTensor(),\n",
        "    transforms.Normalize(mean=[0.485, 0.456, 0.406],\n",
        "                         std=[0.229, 0.224, 0.225])\n",
        "    # средние значения пикселенй и их отклонений для датасета по цветам\n",
        "    # если предобучение сети происходило на стандартизованных данных\n",
        "    # то и при подаче в нее тоже нужно стандартизовать\n",
        "])"
      ]
    },
    {
      "cell_type": "markdown",
      "metadata": {
        "id": "oFR7OK4kyL4h"
      },
      "source": [
        "Создадим dataset и dataLoader:\n",
        "\n",
        "**Вопрос: В чем их отличия?**"
      ]
    },
    {
      "cell_type": "code",
      "execution_count": 5,
      "metadata": {
        "id": "PWNmmRoPyL4i",
        "colab": {
          "base_uri": "https://localhost:8080/",
          "height": 138,
          "referenced_widgets": [
            "815c9b6ad76648dfa9f45297cb317ffd",
            "3bdb3cc32bea48c7a68b94107415355d",
            "fd4ad90316a14807b320ae9324d7e275",
            "3126dadf8090462380b4e8855998c90e",
            "ad661c722e5245d594420c34921cb614",
            "01c59226e1e94cbba1ce0b82a98afb8d",
            "e0949d21d8da4a24aa2daa79dd5ef83a",
            "d6806e65ff38469b9508f06c1bb42472",
            "4b812df7a1974dc6b7e1f760256fa1b6",
            "afd2fe4e75b447908ae4a7ec067ee2c1",
            "9338748f08b14baa8b902f64c2c898a4"
          ]
        },
        "outputId": "faeebc58-cf9e-4df6-df3d-ceaac5c8dc17"
      },
      "outputs": [
        {
          "output_type": "stream",
          "name": "stdout",
          "text": [
            "Downloading https://www.cs.toronto.edu/~kriz/cifar-10-python.tar.gz to ./data/cifar-10-python.tar.gz\n"
          ]
        },
        {
          "output_type": "display_data",
          "data": {
            "text/plain": [
              "  0%|          | 0/170498071 [00:00<?, ?it/s]"
            ],
            "application/vnd.jupyter.widget-view+json": {
              "version_major": 2,
              "version_minor": 0,
              "model_id": "815c9b6ad76648dfa9f45297cb317ffd"
            }
          },
          "metadata": {}
        },
        {
          "output_type": "stream",
          "name": "stdout",
          "text": [
            "Extracting ./data/cifar-10-python.tar.gz to ./data\n",
            "len(train_dataset) = 50000\n",
            "Files already downloaded and verified\n",
            "len(val_dataset) = 10000\n"
          ]
        }
      ],
      "source": [
        "train_dataset = torchvision.datasets.CIFAR10(\n",
        "    root='./data',\n",
        "    train=True,\n",
        "    download=True,\n",
        "    transform=transform\n",
        ")\n",
        "train_dataloader = torch.utils.data.DataLoader(train_dataset, batch_size=batch_size, shuffle=True, num_workers=2)\n",
        "\n",
        "print(\"len(train_dataset) =\", len(train_dataset))\n",
        "\n",
        "val_dataset = torchvision.datasets.CIFAR10(\n",
        "    root='./data',\n",
        "    train=False,\n",
        "    download=True,\n",
        "    transform=transform\n",
        ")\n",
        "val_dataloader= torch.utils.data.DataLoader(val_dataset, batch_size=batch_size, shuffle=False, num_workers=2)\n",
        "\n",
        "print(\"len(val_dataset) =\", len(val_dataset))\n",
        "\n",
        "\n",
        "# dataloader разделяет выборку на несколько потоков и обучает на отдельных GPU - d ytuj ghb[jlbn erfpfntkm yf gfvznm hfpvthjv 32x32\n",
        "# \"dataset открывает картинки, смотри, лоадер - просто упаковывает\" - jnrhsdfnm gj jlyjq rfhnbytrt b ghjujyznm xthtp nhfycajhvs"
      ]
    },
    {
      "cell_type": "markdown",
      "metadata": {
        "id": "zXax3yCVyL4i"
      },
      "source": [
        "Let us show some of the training images, for fun:"
      ]
    },
    {
      "cell_type": "code",
      "execution_count": 6,
      "metadata": {
        "id": "QprDHWnFyL4j",
        "colab": {
          "base_uri": "https://localhost:8080/",
          "height": 229
        },
        "outputId": "fd01ed97-ac1d-42ac-e635-e7e2abc08ef9"
      },
      "outputs": [
        {
          "output_type": "stream",
          "name": "stderr",
          "text": [
            "WARNING:matplotlib.image:Clipping input data to the valid range for imshow with RGB data ([0..1] for floats or [0..255] for integers).\n"
          ]
        },
        {
          "output_type": "stream",
          "name": "stdout",
          "text": [
            "images.shape = torch.Size([4, 3, 32, 32])\n",
            "labels = tensor([3, 0, 2, 2])\n",
            "labels.shape = torch.Size([4])\n"
          ]
        },
        {
          "output_type": "display_data",
          "data": {
            "text/plain": [
              "<Figure size 432x288 with 1 Axes>"
            ],
            "image/png": "[encoded data removed]"
          },
          "metadata": {
            "needs_background": "light"
          }
        }
      ],
      "source": [
        "%matplotlib inline\n",
        "import matplotlib.pyplot as plt\n",
        "import numpy as np\n",
        "\n",
        "\n",
        "def imshow(img):\n",
        "    img = img / 2 + 0.5  # unnormalize\n",
        "    img = img.cpu().numpy()\n",
        "    plt.imshow(np.transpose(img, (1, 2, 0)))\n",
        "    plt.show()\n",
        "\n",
        "\n",
        "# get some random training images\n",
        "images, labels = next(iter(train_dataloader))\n",
        "\n",
        "print(\"images.shape =\", images.shape)\n",
        "\n",
        "print(\"labels =\", labels)\n",
        "print(\"labels.shape =\", labels.shape)\n",
        "\n",
        "# show images\n",
        "imshow(torchvision.utils.make_grid(images))\n",
        "print(' '.join('%5s' % classes[labels[j]] for j in range(batch_size)))"
      ]
    },
    {
      "cell_type": "markdown",
      "metadata": {
        "id": "g1o7EA6TyL4j"
      },
      "source": [
        "### Создание нейронной сети\n",
        "\n",
        "Создадим сверточную сеть.Создайте ее со следующей архитектурой:\n",
        "\n",
        "1. Conv2d (3 -> 6, 5x5, stride=1, padding=FIXME)\n",
        "2. ReLU\n",
        "3. MaxPool2d (2x2, stride=2)\n",
        "4. Conv2d (6 -> 16, 5x5, stride=1, padding=FIXME)\n",
        "5. ReLU\n",
        "6. Linear (`FIXME` -> 128)\n",
        "7. ReLU\n",
        "8. Linear (128 -> 64)\n",
        "9. ReLU\n",
        "10. Linear (64 -> 10)\n",
        "\n",
        "padding в сверточных слоях нужно будет определить Вам самостоятельно. Также и в первом полносвязном слое."
      ]
    },
    {
      "cell_type": "markdown",
      "source": [
        "CONV2D\n",
        "\n",
        "in_channels (int) – Number of channels in the input image\n",
        "\n",
        "out_channels (int) – Number of channels produced by the convolution\n",
        "\n",
        "kernel_size (int or tuple) – Size of the convolving kernel\n",
        "\n",
        "stride (int or tuple, optional) – Stride of the convolution. Default: 1\n",
        "\n",
        "padding (int, tuple or str, optional) – Padding added to all four sides of the input. Default: 0\n",
        "\n",
        "padding_mode (str, optional) – 'zeros', 'reflect', 'replicate' or 'circular'. Default: 'zeros'\n",
        "\n",
        "dilation (int or tuple, optional) – Spacing between kernel elements. Default: 1\n",
        "\n",
        "groups (int, optional) – Number of blocked connections from input channels to output channels. Default: 1\n",
        "\n",
        "bias (bool, optional) – If True, adds a learnable bias to the output. Default: True"
      ],
      "metadata": {
        "id": "Jw0FxlYrQ0LX"
      }
    },
    {
      "cell_type": "code",
      "execution_count": 10,
      "metadata": {
        "id": "ywO_8oRkyL4k",
        "colab": {
          "base_uri": "https://localhost:8080/",
          "height": 371
        },
        "outputId": "d4a375da-37cc-4d70-adb4-2c602ea22603"
      },
      "outputs": [
        {
          "output_type": "stream",
          "name": "stdout",
          "text": [
            "torch.Size([1, 16, 8, 8])\n"
          ]
        },
        {
          "output_type": "error",
          "ename": "RuntimeError",
          "evalue": "ignored",
          "traceback": [
            "\u001b[0;31m---------------------------------------------------------------------------\u001b[0m",
            "\u001b[0;31mRuntimeError\u001b[0m                              Traceback (most recent call last)",
            "\u001b[0;32m<ipython-input-10-199a12fba568>\u001b[0m in \u001b[0;36m<module>\u001b[0;34m\u001b[0m\n\u001b[1;32m     67\u001b[0m \u001b[0;34m\u001b[0m\u001b[0m\n\u001b[1;32m     68\u001b[0m \u001b[0mmodel\u001b[0m \u001b[0;34m=\u001b[0m \u001b[0mSimpleConvNet\u001b[0m\u001b[0;34m(\u001b[0m\u001b[0;34m)\u001b[0m\u001b[0;34m.\u001b[0m\u001b[0mto\u001b[0m\u001b[0;34m(\u001b[0m\u001b[0mdevice\u001b[0m\u001b[0;34m)\u001b[0m\u001b[0;34m\u001b[0m\u001b[0;34m\u001b[0m\u001b[0m\n\u001b[0;32m---> 69\u001b[0;31m \u001b[0mmodel\u001b[0m\u001b[0;34m(\u001b[0m\u001b[0mtorch\u001b[0m\u001b[0;34m.\u001b[0m\u001b[0mrandn\u001b[0m\u001b[0;34m(\u001b[0m\u001b[0;36m1\u001b[0m\u001b[0;34m,\u001b[0m\u001b[0;36m3\u001b[0m\u001b[0;34m,\u001b[0m\u001b[0;36m16\u001b[0m\u001b[0;34m,\u001b[0m\u001b[0;36m16\u001b[0m\u001b[0;34m)\u001b[0m\u001b[0;34m)\u001b[0m\u001b[0;34m\u001b[0m\u001b[0;34m\u001b[0m\u001b[0m\n\u001b[0m",
            "\u001b[0;32m/usr/local/lib/python3.9/dist-packages/torch/nn/modules/module.py\u001b[0m in \u001b[0;36m_call_impl\u001b[0;34m(self, *input, **kwargs)\u001b[0m\n\u001b[1;32m   1192\u001b[0m         if not (self._backward_hooks or self._forward_hooks or self._forward_pre_hooks or _global_backward_hooks\n\u001b[1;32m   1193\u001b[0m                 or _global_forward_hooks or _global_forward_pre_hooks):\n\u001b[0;32m-> 1194\u001b[0;31m             \u001b[0;32mreturn\u001b[0m \u001b[0mforward_call\u001b[0m\u001b[0;34m(\u001b[0m\u001b[0;34m*\u001b[0m\u001b[0minput\u001b[0m\u001b[0;34m,\u001b[0m \u001b[0;34m**\u001b[0m\u001b[0mkwargs\u001b[0m\u001b[0;34m)\u001b[0m\u001b[0;34m\u001b[0m\u001b[0;34m\u001b[0m\u001b[0m\n\u001b[0m\u001b[1;32m   1195\u001b[0m         \u001b[0;31m# Do not call functions when jit is used\u001b[0m\u001b[0;34m\u001b[0m\u001b[0;34m\u001b[0m\u001b[0m\n\u001b[1;32m   1196\u001b[0m         \u001b[0mfull_backward_hooks\u001b[0m\u001b[0;34m,\u001b[0m \u001b[0mnon_full_backward_hooks\u001b[0m \u001b[0;34m=\u001b[0m \u001b[0;34m[\u001b[0m\u001b[0;34m]\u001b[0m\u001b[0;34m,\u001b[0m \u001b[0;34m[\u001b[0m\u001b[0;34m]\u001b[0m\u001b[0;34m\u001b[0m\u001b[0;34m\u001b[0m\u001b[0m\n",
            "\u001b[0;32m<ipython-input-10-199a12fba568>\u001b[0m in \u001b[0;36mforward\u001b[0;34m(self, x)\u001b[0m\n\u001b[1;32m     49\u001b[0m         \u001b[0mprint\u001b[0m \u001b[0;34m(\u001b[0m\u001b[0mx\u001b[0m\u001b[0;34m.\u001b[0m\u001b[0mshape\u001b[0m\u001b[0;34m)\u001b[0m\u001b[0;34m\u001b[0m\u001b[0;34m\u001b[0m\u001b[0m\n\u001b[1;32m     50\u001b[0m \u001b[0;34m\u001b[0m\u001b[0m\n\u001b[0;32m---> 51\u001b[0;31m         \u001b[0mx\u001b[0m \u001b[0;34m=\u001b[0m \u001b[0mx\u001b[0m\u001b[0;34m.\u001b[0m\u001b[0mview\u001b[0m\u001b[0;34m(\u001b[0m\u001b[0;34m-\u001b[0m\u001b[0;36m1\u001b[0m\u001b[0;34m,\u001b[0m \u001b[0;36m16\u001b[0m\u001b[0;34m*\u001b[0m\u001b[0;36m32\u001b[0m\u001b[0;34m*\u001b[0m\u001b[0;36m32\u001b[0m\u001b[0;34m)\u001b[0m \u001b[0;31m## что оно делает? без этого не работает (размерность слетает)\u001b[0m\u001b[0;34m\u001b[0m\u001b[0;34m\u001b[0m\u001b[0m\n\u001b[0m\u001b[1;32m     52\u001b[0m         \u001b[0;31m# обычный массив - массив массивов массивов\u001b[0m\u001b[0;34m\u001b[0m\u001b[0;34m\u001b[0m\u001b[0m\n\u001b[1;32m     53\u001b[0m         \u001b[0;31m# решейп переделает разорванный массив в одну строку с байтами подряд\u001b[0m\u001b[0;34m\u001b[0m\u001b[0;34m\u001b[0m\u001b[0m\n",
            "\u001b[0;31mRuntimeError\u001b[0m: shape '[-1, 16384]' is invalid for input of size 1024"
          ]
        }
      ],
      "source": [
        "import torch.nn as nn\n",
        "import torch.nn.functional as F\n",
        "import torch\n",
        "torch.__version__\n",
        "import torch.optim\n",
        "import numpy as np\n",
        "from PIL import Image\n",
        "import urllib\n",
        "\n",
        "import numpy as np # библиотека работы с матрицами на цпу\n",
        "import time \n",
        "import torch.nn # модуль библиотеки для создрания слоев \n",
        "import matplotlib.pyplot as plt # библиотека для отображения графиков и изображений\n",
        "%matplotlib inline\n",
        "\n",
        "\n",
        "class SimpleConvNet(nn.Module):\n",
        "    def __init__(self):\n",
        "        super().__init__()\n",
        "        \n",
        "        self.convolution2dLayer_1 = nn.Conv2d (in_channels = 3, out_channels = 6 , kernel_size = 5, stride=1, padding=2)\n",
        "        self.convolution2dLayer_2 = nn.Conv2d (in_channels = 6, out_channels = 16, kernel_size = 5, stride=1, padding=2)\n",
        "\n",
        "\n",
        "        #этот слой полносвязный\n",
        "        self.activation = nn.ReLU() #функция активации\n",
        "\n",
        "        #этот слой полносвязный\n",
        "        self.pool = nn.MaxPool2d (kernel_size = 2, stride=2) # сокращает колво пикселей\n",
        "\n",
        "        #first_layer_size = out_channels*16*16\n",
        "        first_layer_size =           16*32*32\n",
        "        #first_layer_size =            16*16*16\n",
        "\n",
        "        self.fc1 = nn.Linear(first_layer_size,128)\n",
        "        self.fc2 = nn.Linear(128,64)\n",
        "        self.fc3 = nn.Linear(64,10)\n",
        "        ## FIXME\n",
        "        \n",
        "    def forward(self, x):\n",
        "        \n",
        "        ## FIXME\n",
        "        x = self.convolution2dLayer_1 (x)\n",
        "        x = self.activation(x)\n",
        "        x = self.pool(x)\n",
        "        x = self.convolution2dLayer_2 (x)\n",
        "        x = self.activation(x)\n",
        "\n",
        "        print (x.shape)\n",
        "\n",
        "        x = x.view(-1, 16*32*32) ## что оно делает? без этого не работает (размерность слетает)\n",
        "        # обычный массив - массив массивов массивов\n",
        "        # решейп переделает разорванный массив в одну строку с байтами подряд\n",
        "        # вью говоритт - считать что это массив от а до б\n",
        "        # вью можо заменить на решейп, если он не работает\n",
        "\n",
        "        x = self.fc1(x)\n",
        "        x = self.activation(x)\n",
        "        x = self.fc2(x)\n",
        "        x = self.activation(x)\n",
        "        x = self.fc3(x)\n",
        "        \n",
        "\n",
        "        \n",
        "        return x\n",
        "\n",
        "\n",
        "model = SimpleConvNet().to(device)\n",
        "#model(torch.randn(1,3,16,16))"
      ]
    },
    {
      "cell_type": "code",
      "source": [],
      "metadata": {
        "id": "VKgEeD23o_3t"
      },
      "execution_count": null,
      "outputs": []
    },
    {
      "cell_type": "markdown",
      "metadata": {
        "id": "QA_6bfPHyL4k"
      },
      "source": [
        "### 3. Зададим функцию потери и оптимизатор\n"
      ]
    },
    {
      "cell_type": "code",
      "execution_count": 26,
      "metadata": {
        "id": "ArhYJxlXyL4k"
      },
      "outputs": [],
      "source": [
        "import torch.optim as optim\n",
        "\n",
        "criterion_loss_func = nn.CrossEntropyLoss().to(device)\n",
        "opt = optim.SGD(model.parameters(), lr=0.001, momentum=0.9)"
      ]
    },
    {
      "cell_type": "markdown",
      "metadata": {
        "id": "p14l8JgGyL4l"
      },
      "source": [
        "### 4. Обучение нейронной сети\n",
        "\n",
        "Теперь нужно написать весь пайплайн обучения. Поправьте и добавьте необходимые строки в ячейку ниже"
      ]
    },
    {
      "cell_type": "code",
      "execution_count": 27,
      "metadata": {
        "id": "4nsr7AHoyL4l",
        "colab": {
          "base_uri": "https://localhost:8080/",
          "height": 170,
          "referenced_widgets": [
            "b990b877ee9e4098b443687e3a5215de",
            "8acb849a74914ca3a34fc623ed9e0a19",
            "0bb001de8e3f4634aaeaf8d6a95e3df9",
            "3db5025f295441e693160a2165a29fef",
            "1907e22502c74976ad224c05476d1e5c",
            "5ae4569eab88430186da510c41d20337",
            "bbeca8504764433c8275e1b5097f4c0f",
            "d220c94c45704ee9a12c5d096f74471e",
            "75f0235ca0d34f159de88b3b2a1d8ef5",
            "5cfa043f0fc043fd8cc76cca5207a1ad",
            "7a98e2a308824133af4a6de6c1eda764",
            "861788d2e3fc496492a46e2663b5a47c",
            "f62cdad012f94567a919f37bb4cd1d83",
            "e325eadc73cc411fa7b8f0977c21386c",
            "6430ec80689945e1a383eb4f7dc7c1e5",
            "7ab2ab1f69b14818acdd0b903dcc9d5e",
            "0a82efb801b049f583f04254a0d8a62f",
            "c485cae0e0e34955bf06d8029ae42929",
            "3f4350031f2a41ccbf65c7cd9598ec27",
            "f8a479107fab483ab5d008f50238cc39",
            "4807c37e60cd456fbb17e39577a88a18",
            "43e4850dc3f94942aa75411a98167536"
          ]
        },
        "outputId": "10ac3c8a-557f-42b2-847f-956bf93d2e94"
      },
      "outputs": [
        {
          "output_type": "stream",
          "name": "stderr",
          "text": [
            "<ipython-input-27-cd17d9f83626>:7: TqdmDeprecationWarning: This function will be removed in tqdm==5.0.0\n",
            "Please use `tqdm.notebook.tqdm` instead of `tqdm.tqdm_notebook`\n",
            "  for batch in tqdm(train_dataloader):\n"
          ]
        },
        {
          "output_type": "display_data",
          "data": {
            "text/plain": [
              "  0%|          | 0/12500 [00:00<?, ?it/s]"
            ],
            "application/vnd.jupyter.widget-view+json": {
              "version_major": 2,
              "version_minor": 0,
              "model_id": "b990b877ee9e4098b443687e3a5215de"
            }
          },
          "metadata": {}
        },
        {
          "output_type": "stream",
          "name": "stdout",
          "text": [
            "[epoch 0] loss: 1.58\n"
          ]
        },
        {
          "output_type": "display_data",
          "data": {
            "text/plain": [
              "  0%|          | 0/12500 [00:00<?, ?it/s]"
            ],
            "application/vnd.jupyter.widget-view+json": {
              "version_major": 2,
              "version_minor": 0,
              "model_id": "861788d2e3fc496492a46e2663b5a47c"
            }
          },
          "metadata": {}
        },
        {
          "output_type": "stream",
          "name": "stdout",
          "text": [
            "[epoch 1] loss: 1.22\n"
          ]
        }
      ],
      "source": [
        "from tqdm import tqdm_notebook as tqdm\n",
        "\n",
        "for epoch in range(2):  # loop over the dataset multiple times\n",
        "    running_loss = 0.0\n",
        "\n",
        "\n",
        "    for batch in tqdm(train_dataloader):\n",
        "        # получим данные\n",
        "        image_batch, label_batch = batch\n",
        "        image_batch, label_batch = image_batch.to(device), label_batch.to(device)\n",
        "        \n",
        "        \n",
        "        \n",
        "        \n",
        "        # обнуление параметров градиента\n",
        "        opt.zero_grad()\n",
        "\n",
        "        # forward + backward + optimize\n",
        "        y_pred = model(image_batch)\n",
        "        outputs = y_pred\n",
        "\n",
        "        loss = criterion_loss_func(y_pred, label_batch)\n",
        "        \n",
        "        loss.backward()\n",
        "        opt.step()\n",
        "        \n",
        "        running_loss += loss.item()\n",
        "        \n",
        "        \n",
        "    print(\"[epoch {}] loss: {:.3}\".format(epoch, running_loss / len(train_dataloader)))"
      ]
    },
    {
      "cell_type": "markdown",
      "metadata": {
        "id": "MRrFJVdVyL4m"
      },
      "source": [
        "### 5. Проверка модели на валидационной выборке\n",
        "\n",
        "После обучения в течение двух эпох давайте проверим научилась ли она обобщать. Мы проверим метки на выходе с истинными значениями. "
      ]
    },
    {
      "cell_type": "code",
      "execution_count": 28,
      "metadata": {
        "id": "TBB6q1SVyL4m",
        "colab": {
          "base_uri": "https://localhost:8080/",
          "height": 194
        },
        "outputId": "209d7921-d64e-405d-eebe-aff16918f14a"
      },
      "outputs": [
        {
          "output_type": "stream",
          "name": "stderr",
          "text": [
            "WARNING:matplotlib.image:Clipping input data to the valid range for imshow with RGB data ([0..1] for floats or [0..255] for integers).\n"
          ]
        },
        {
          "output_type": "display_data",
          "data": {
            "text/plain": [
              "<Figure size 432x288 with 1 Axes>"
            ],
            "image/png": "[encoded data removed]"
          },
          "metadata": {
            "needs_background": "light"
          }
        },
        {
          "output_type": "stream",
          "name": "stdout",
          "text": [
            "GroundTruth:    cat  ship  ship plane\n"
          ]
        }
      ],
      "source": [
        "image_batch, label_batch = next(iter(val_dataloader))\n",
        "image_batch, label_batch = image_batch.to(device), label_batch.to(device)\n",
        "\n",
        "# print images\n",
        "imshow(torchvision.utils.make_grid(image_batch))\n",
        "print('GroundTruth: ', ' '.join('%5s' % classes[label_batch[j]] for j in range(batch_size)))"
      ]
    },
    {
      "cell_type": "markdown",
      "metadata": {
        "id": "MW0L13n2yL4m"
      },
      "source": [
        "Теперь давайте посмотрим что считает наша модель:\n",
        "\n"
      ]
    },
    {
      "cell_type": "code",
      "execution_count": 29,
      "metadata": {
        "id": "KlAD5noZyL4m"
      },
      "outputs": [],
      "source": [
        "outputs = model(image_batch)"
      ]
    },
    {
      "cell_type": "markdown",
      "metadata": {
        "id": "vDFFVgruyL4n"
      },
      "source": [
        "На выходе мы получаем энергии по 10 классам.\n",
        "\n",
        "Чем выше энергия для класса, тем больше модель считает что изображение принадлежит этому классу.\n",
        "\n",
        "Давайте проверим:"
      ]
    },
    {
      "cell_type": "code",
      "execution_count": 32,
      "metadata": {
        "id": "bv-MhmckyL4n"
      },
      "outputs": [],
      "source": [
        "predicted = torch.argmax(outputs, dim=1)\n",
        "\n"
      ]
    },
    {
      "cell_type": "code",
      "source": [
        "{\" \".join(classes[predicted[j]]for j in range(batch_size))}"
      ],
      "metadata": {
        "colab": {
          "base_uri": "https://localhost:8080/"
        },
        "id": "DtbIL67gcCWI",
        "outputId": "ab6e32b2-274e-4efc-e10e-646fffe1c574"
      },
      "execution_count": 35,
      "outputs": [
        {
          "output_type": "execute_result",
          "data": {
            "text/plain": [
              "{'cat ship ship ship'}"
            ]
          },
          "metadata": {},
          "execution_count": 35
        }
      ]
    },
    {
      "cell_type": "markdown",
      "metadata": {
        "id": "kkn3XSsyyL4n"
      },
      "source": [
        "А теперь давайте проверим по всему валидационному датасету:"
      ]
    },
    {
      "cell_type": "code",
      "execution_count": 36,
      "metadata": {
        "id": "qgUFPdFdyL4o",
        "colab": {
          "base_uri": "https://localhost:8080/",
          "height": 120,
          "referenced_widgets": [
            "4a461fc07988440493ee236ef2d196cd",
            "7dc21f83ba8042f3ab507349b1f1e1d3",
            "86f2226f3ec145cea08e7f6ffcbe62dc",
            "5184e173bbba44a086b39234d1f62fec",
            "d06318191a1342bc8d13f11714accc73",
            "06f7a0d79e06491ea54cedb684617532",
            "117c6d8bff444198848f1afd7709d584",
            "82b86ab465eb471eb1116a00366e8eef",
            "4dfa413a4e8646a9bf72c22d32d1b847",
            "16fde5fe6d0b4e0e8bc8e2328786b434",
            "9f8906de37fe4047a689f3db14ec605c"
          ]
        },
        "outputId": "18560c6f-0be5-4fcf-fda6-f3041c1aac8b"
      },
      "outputs": [
        {
          "output_type": "stream",
          "name": "stderr",
          "text": [
            "<ipython-input-36-f8182220746d>:6: TqdmDeprecationWarning: This function will be removed in tqdm==5.0.0\n",
            "Please use `tqdm.notebook.tqdm` instead of `tqdm.tqdm_notebook`\n",
            "  for batch in tqdm(val_dataloader):\n"
          ]
        },
        {
          "output_type": "display_data",
          "data": {
            "text/plain": [
              "  0%|          | 0/2500 [00:00<?, ?it/s]"
            ],
            "application/vnd.jupyter.widget-view+json": {
              "version_major": 2,
              "version_minor": 0,
              "model_id": "4a461fc07988440493ee236ef2d196cd"
            }
          },
          "metadata": {}
        },
        {
          "output_type": "stream",
          "name": "stdout",
          "text": [
            "Точность модели на 10000 изображений: 59.1200\n"
          ]
        }
      ],
      "source": [
        "model.eval()\n",
        "\n",
        "correct = 0\n",
        "total = 0\n",
        "with torch.no_grad():\n",
        "    for batch in tqdm(val_dataloader):\n",
        "        image_batch, label_batch = batch\n",
        "        image_batch, label_batch = image_batch.to(device), label_batch.to(device)\n",
        "        \n",
        "        outputs = model (image_batch)\n",
        "        predicted = torch.argmax(outputs, dim =1)\n",
        "        \n",
        "        total += labels.size(0)\n",
        "        correct += (predicted == label_batch).sum().item()\n",
        "\n",
        "print(f\"Точность модели на 10000 изображений: {100 * correct / total:.4f}\")"
      ]
    },
    {
      "cell_type": "markdown",
      "metadata": {
        "id": "bdKxrAU7yL4o"
      },
      "source": [
        "## Задача 2 (2 балла). обучение предобученной модели (Finetuning)\n",
        "\n",
        "**Глубокое обучение** связано с иерархическим изучением признаков. Это означает, что бОльшая часть нейронной сети только учится извлекать признаки, и только последние слои учатся классифицировать целевую задачу. Итак, если мы возьмем какую-нибудь современную модель, тщательно обученную на большом наборе данных, вполне вероятно, что она научилась извлекать из данных некоторые полезные функции. Это позволит сократить время обучения на новой задаче.\n",
        "\n",
        "В этой части семинара мы обучим [AlexNet](https://arxiv.org/abs/1404.5997) (одна из первых глубоких архитектур CNN), обученную на ImageNet (набор данных изображений класса 1000)."
      ]
    },
    {
      "cell_type": "markdown",
      "metadata": {
        "id": "I9njZ8ZSyL4o"
      },
      "source": [
        "Согласно [документации](https://pytorch.org/vision/main/models/generated/torchvision.models.alexnet.html#torchvision.models.AlexNet_Weights), модели нужно  подавать на вход изображения с разрешением 224x224. Добавьте необходимые [трансформы](https://pytorch.org/vision/main/transforms.html#transforms-on-pil-image-and-torch-tensor):"
      ]
    },
    {
      "cell_type": "code",
      "execution_count": 38,
      "metadata": {
        "id": "7ZMkYJJfyL4o"
      },
      "outputs": [],
      "source": [
        "transform = transforms.Compose([\n",
        "    transforms.Resize(size = 224),\n",
        "    transforms.ToTensor(),\n",
        "    transforms.Normalize(mean=[0.485, 0.456, 0.406],\n",
        "                         std=[0.229, 0.224, 0.225])\n",
        "])"
      ]
    },
    {
      "cell_type": "markdown",
      "metadata": {
        "id": "E8kRQ-tKyL4o"
      },
      "source": [
        "Создадим dataset и dataLoader:"
      ]
    },
    {
      "cell_type": "code",
      "execution_count": 39,
      "metadata": {
        "id": "3kLUjA3yyL4p",
        "colab": {
          "base_uri": "https://localhost:8080/"
        },
        "outputId": "df39f0f8-0e31-4ed1-f378-d89e09087247"
      },
      "outputs": [
        {
          "output_type": "stream",
          "name": "stdout",
          "text": [
            "Files already downloaded and verified\n",
            "len(train_dataset) = 50000\n",
            "Files already downloaded and verified\n",
            "len(val_dataset) = 10000\n"
          ]
        }
      ],
      "source": [
        "train_dataset = torchvision.datasets.CIFAR10(\n",
        "    root='./data',\n",
        "    train=True,\n",
        "    download=True,\n",
        "    transform=transform\n",
        ")\n",
        "train_dataloader = torch.utils.data.DataLoader(train_dataset, batch_size=batch_size, shuffle=True, num_workers=2)\n",
        "\n",
        "print(\"len(train_dataset) =\", len(train_dataset))\n",
        "\n",
        "val_dataset = torchvision.datasets.CIFAR10(\n",
        "    root='./data',\n",
        "    train=False,\n",
        "    download=True,\n",
        "    transform=transform\n",
        ")\n",
        "val_dataloader= torch.utils.data.DataLoader(val_dataset, batch_size=batch_size, shuffle=False, num_workers=2)\n",
        "\n",
        "print(\"len(val_dataset) =\", len(val_dataset))"
      ]
    },
    {
      "cell_type": "markdown",
      "metadata": {
        "id": "UGmLuO-jyL4p"
      },
      "source": [
        "### 1. Загрузка предобученной модели"
      ]
    },
    {
      "cell_type": "markdown",
      "metadata": {
        "id": "Bw2lP-4tyL4p"
      },
      "source": [
        "Теперь загрузим уже предобученную модель AlexNet. `torchvision` дает нам простой интерфейс для загрузки популярных предварительно обученных моделей (загрузка весов может занять некоторое время):"
      ]
    },
    {
      "cell_type": "code",
      "execution_count": 40,
      "metadata": {
        "id": "NqVxdrQXyL4p",
        "colab": {
          "base_uri": "https://localhost:8080/",
          "height": 641,
          "referenced_widgets": [
            "23b4382623b24ed9823f32685c1634c0",
            "83103f4cee4441589e4f8228cd3e1c46",
            "f12117c0d8fb4ee0a26f212d95586f44",
            "3faaad34d7b1449f918da8be6143ac41",
            "8f5c8c374a2e416b973ddafe775f7e0e",
            "561a9c98639c4afea39d889c6515c5f5",
            "174c6f2bb1c542179489fc47f003a968",
            "28c388b6f78c45eebb706231f4ca6980",
            "fd28cfbe3f1847488c753aae23c08f32",
            "c4b958cc62ee41bca9b5dff2ad9ce1ea",
            "d10a839d60e54f4f95342bf212571365"
          ]
        },
        "outputId": "92367475-d1da-4f9b-af45-44bec3a248c9"
      },
      "outputs": [
        {
          "output_type": "stream",
          "name": "stderr",
          "text": [
            "/usr/local/lib/python3.8/dist-packages/torchvision/models/_utils.py:208: UserWarning: The parameter 'pretrained' is deprecated since 0.13 and may be removed in the future, please use 'weights' instead.\n",
            "  warnings.warn(\n",
            "/usr/local/lib/python3.8/dist-packages/torchvision/models/_utils.py:223: UserWarning: Arguments other than a weight enum or `None` for 'weights' are deprecated since 0.13 and may be removed in the future. The current behavior is equivalent to passing `weights=AlexNet_Weights.IMAGENET1K_V1`. You can also use `weights=AlexNet_Weights.DEFAULT` to get the most up-to-date weights.\n",
            "  warnings.warn(msg)\n",
            "Downloading: \"https://download.pytorch.org/models/alexnet-owt-7be5be79.pth\" to /root/.cache/torch/hub/checkpoints/alexnet-owt-7be5be79.pth\n"
          ]
        },
        {
          "output_type": "display_data",
          "data": {
            "text/plain": [
              "  0%|          | 0.00/233M [00:00<?, ?B/s]"
            ],
            "application/vnd.jupyter.widget-view+json": {
              "version_major": 2,
              "version_minor": 0,
              "model_id": "23b4382623b24ed9823f32685c1634c0"
            }
          },
          "metadata": {}
        },
        {
          "output_type": "stream",
          "name": "stdout",
          "text": [
            "AlexNet(\n",
            "  (features): Sequential(\n",
            "    (0): Conv2d(3, 64, kernel_size=(11, 11), stride=(4, 4), padding=(2, 2))\n",
            "    (1): ReLU(inplace=True)\n",
            "    (2): MaxPool2d(kernel_size=3, stride=2, padding=0, dilation=1, ceil_mode=False)\n",
            "    (3): Conv2d(64, 192, kernel_size=(5, 5), stride=(1, 1), padding=(2, 2))\n",
            "    (4): ReLU(inplace=True)\n",
            "    (5): MaxPool2d(kernel_size=3, stride=2, padding=0, dilation=1, ceil_mode=False)\n",
            "    (6): Conv2d(192, 384, kernel_size=(3, 3), stride=(1, 1), padding=(1, 1))\n",
            "    (7): ReLU(inplace=True)\n",
            "    (8): Conv2d(384, 256, kernel_size=(3, 3), stride=(1, 1), padding=(1, 1))\n",
            "    (9): ReLU(inplace=True)\n",
            "    (10): Conv2d(256, 256, kernel_size=(3, 3), stride=(1, 1), padding=(1, 1))\n",
            "    (11): ReLU(inplace=True)\n",
            "    (12): MaxPool2d(kernel_size=3, stride=2, padding=0, dilation=1, ceil_mode=False)\n",
            "  )\n",
            "  (avgpool): AdaptiveAvgPool2d(output_size=(6, 6))\n",
            "  (classifier): Sequential(\n",
            "    (0): Dropout(p=0.5, inplace=False)\n",
            "    (1): Linear(in_features=9216, out_features=4096, bias=True)\n",
            "    (2): ReLU(inplace=True)\n",
            "    (3): Dropout(p=0.5, inplace=False)\n",
            "    (4): Linear(in_features=4096, out_features=4096, bias=True)\n",
            "    (5): ReLU(inplace=True)\n",
            "    (6): Linear(in_features=4096, out_features=1000, bias=True)\n",
            "  )\n",
            ")\n"
          ]
        }
      ],
      "source": [
        "model = torchvision.models.alexnet(pretrained=True).to(device)\n",
        "print(model)"
      ]
    },
    {
      "cell_type": "markdown",
      "metadata": {
        "id": "cNBWbhGayL4q"
      },
      "source": [
        "Как можно увидеть, есть два главных модуля:\n",
        " - **features**: извлекает признаки из изображений\n",
        " - **classifier**: выполняет классификацию по 1000 классам\n",
        " \n",
        "модуль `features` нам пригодится. А модуль `classifier` настроен для классификации по ImageNet. Его мы и заменим\n",
        "\n",
        "Нам не нужно обучать модуль `features`, поэтому для каждого параметра слоев [нужно](https://stackoverflow.com/questions/62523912/how-to-freeze-selected-layers-of-a-model-in-pytorch) выставить `requiers_grad=False`:"
      ]
    },
    {
      "cell_type": "code",
      "execution_count": null,
      "metadata": {
        "id": "GmRX5PwmyL4q"
      },
      "outputs": [],
      "source": [
        "## пройти в цикле по каждому параметру в features и заморозить их\n",
        "for param in model.parameters():\n",
        "    param.requiers_grad=False"
      ]
    },
    {
      "cell_type": "markdown",
      "metadata": {
        "id": "EnttwJPVyL4q"
      },
      "source": [
        "Теперь соберем новый классификатор. Используйте [nn.Sequential](https://pytorch.org/docs/stable/nn.html#torch.nn.Sequential) для упрощения читабельности кода. Также попробуйте [nn.Dropout](https://pytorch.org/docs/stable/nn.html#torch.nn.Dropout):"
      ]
    },
    {
      "cell_type": "markdown",
      "source": [
        "Conv2d (3 -> 6, 5x5, stride=1, padding=FIXME)\n",
        "ReLU\n",
        "MaxPool2d (2x2, stride=2)\n",
        "Conv2d (6 -> 16, 5x5, stride=1, padding=FIXME)\n",
        "ReLU\n",
        "Linear (FIXME -> 128)\n",
        "ReLU\n",
        "Linear (128 -> 64)\n",
        "ReLU\n",
        "Linear (64 -> 10)"
      ],
      "metadata": {
        "id": "kJD-vS6CiO2P"
      }
    },
    {
      "cell_type": "code",
      "execution_count": 47,
      "metadata": {
        "id": "UjVoa145yL4q"
      },
      "outputs": [],
      "source": [
        "classifier = nn.Sequential(\n",
        "          nn.Dropout(0.1),\n",
        "          nn.Conv2d (in_channels = 256, out_channels = 6 , kernel_size = 5, stride=1, padding=0),\n",
        "          nn.ReLU(),\n",
        "          nn.MaxPool2d (kernel_size = 2, stride=2),\n",
        "          nn.Conv2d (in_channels = 6, out_channels = 16, kernel_size = 5, stride=1, padding=0),\n",
        "          nn.ReLU(),\n",
        "\n",
        "          nn.Linear(4916,128),\n",
        "          nn.ReLU(),\n",
        "          nn.Linear(128,64),\n",
        "          nn.ReLU(),\n",
        "          nn.Linear(64,10),\n",
        "          nn.ReLU()\n",
        "        )"
      ]
    },
    {
      "cell_type": "markdown",
      "source": [
        "![image.png](data:image/png;base64,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)"
      ],
      "metadata": {
        "id": "jhP_QEw8j7Y0"
      }
    },
    {
      "cell_type": "code",
      "source": [
        "classifier = nn.Sequential(\n",
        "          nn.Dropout(0.1),\n",
        "          nn.Linear(9216,128),\n",
        "          nn.ReLU(),\n",
        "          nn.Dropout(0.1),\n",
        "          nn.Linear(128,10),\n",
        "          nn.ReLU(),\n",
        "        )"
      ],
      "metadata": {
        "id": "p6Tms5csjv_8"
      },
      "execution_count": 51,
      "outputs": []
    },
    {
      "cell_type": "markdown",
      "metadata": {
        "id": "uCZ4B97KyL4q"
      },
      "source": [
        "Заменим классификатор на наш:"
      ]
    },
    {
      "cell_type": "code",
      "execution_count": 52,
      "metadata": {
        "id": "AUQLp4rjyL4r"
      },
      "outputs": [],
      "source": [
        "model.classifier = classifier"
      ]
    },
    {
      "cell_type": "markdown",
      "metadata": {
        "id": "lGv9MsIVyL4r"
      },
      "source": [
        "Зададим функцию потери и оптимизатор\n"
      ]
    },
    {
      "cell_type": "code",
      "execution_count": 53,
      "metadata": {
        "id": "7Hg_6iftyL4r"
      },
      "outputs": [],
      "source": [
        "criterion = nn.CrossEntropyLoss().to(device)\n",
        "opt = optim.SGD(model.classifier.parameters(), lr=0.001, momentum=0.9)"
      ]
    },
    {
      "cell_type": "markdown",
      "metadata": {
        "id": "wRWP2DTeyL4r"
      },
      "source": [
        "Обучите в течение одной эпохи:"
      ]
    },
    {
      "cell_type": "code",
      "execution_count": 54,
      "metadata": {
        "id": "vU0t3q5fyL4r",
        "colab": {
          "base_uri": "https://localhost:8080/",
          "height": 120,
          "referenced_widgets": [
            "303c9687f3474146a84e85fbad1bf944",
            "339bee7558de45f0b7aaef4442af6dfa",
            "9e589406f6a84ad6a77e594191fa37b7",
            "2ca883ade07c4571bf0463d815844b73",
            "8e64b223684c4888bf16fc3cd31b5fd9",
            "4031ed674c82476e9fada826976190c1",
            "7d03a07045db4169a44475dc27ebbbbb",
            "4096a81c4ccd44c6b7a6e3d827ccbdc6",
            "c6148b73ba044d599a42d74fe2fdd12a",
            "e1c9efef23cd48029952c3721847cef5",
            "0b8ebcbb4c754cd5a9ab6d3b14c76992"
          ]
        },
        "outputId": "a0e5dcaf-a2d0-46a2-ff70-309a11ecc47e"
      },
      "outputs": [
        {
          "output_type": "stream",
          "name": "stderr",
          "text": [
            "<ipython-input-54-c0db2d618831>:8: TqdmDeprecationWarning: This function will be removed in tqdm==5.0.0\n",
            "Please use `tqdm.notebook.tqdm` instead of `tqdm.tqdm_notebook`\n",
            "  for batch in tqdm(train_dataloader):\n"
          ]
        },
        {
          "output_type": "display_data",
          "data": {
            "text/plain": [
              "  0%|          | 0/12500 [00:00<?, ?it/s]"
            ],
            "application/vnd.jupyter.widget-view+json": {
              "version_major": 2,
              "version_minor": 0,
              "model_id": "303c9687f3474146a84e85fbad1bf944"
            }
          },
          "metadata": {}
        },
        {
          "output_type": "stream",
          "name": "stdout",
          "text": [
            "[epoch 0] loss: 2.03\n"
          ]
        }
      ],
      "source": [
        "num_epoch = 1\n",
        "\n",
        "\n",
        "for epoch in range(num_epoch):\n",
        "\n",
        "    #Переводит модель в режим обучения\n",
        "    model.train()\n",
        "    for batch in tqdm(train_dataloader):\n",
        "        # получим данные\n",
        "        image_batch, label_batch = batch\n",
        "        image_batch, label_batch = image_batch.to(device), label_batch.to(device)\n",
        "        \n",
        "        \n",
        "        \n",
        "        \n",
        "        \n",
        "\n",
        "        # forward + backward + optimize\n",
        "        y_pred = model(image_batch)\n",
        "        outputs = y_pred\n",
        "\n",
        "        loss = criterion_loss_func(y_pred, label_batch)\n",
        "        # обнуление параметров градиента\n",
        "        opt.zero_grad()\n",
        "        loss.backward()\n",
        "        opt.step()\n",
        "        \n",
        "        running_loss += loss.item()\n",
        "        \n",
        "        \n",
        "    print(\"[epoch {}] loss: {:.3}\".format(epoch, running_loss / len(train_dataloader)))"
      ]
    },
    {
      "cell_type": "markdown",
      "metadata": {
        "id": "ERrhQItryL4s"
      },
      "source": [
        "Проверьте на валидационной выборке:"
      ]
    },
    {
      "cell_type": "code",
      "execution_count": 55,
      "metadata": {
        "id": "rpuqHDhQyL4s",
        "colab": {
          "base_uri": "https://localhost:8080/",
          "height": 120,
          "referenced_widgets": [
            "aac01f8ce4d342499207383c5fc2a7cf",
            "cfec7ea8cca5431c9d2076659b702c91",
            "8742e45b8fe9410fab6e3f85851f7ab9",
            "25a9b06e0476491e826f37909c9247d6",
            "10d0a6566fdf444b9ead6c5deba3849c",
            "91fa689c08714ed9b003485c35ab0d4b",
            "fc9aec12e92f4073b002b4bd5cd0778e",
            "4135df3c342d4f0d88039a6a94205888",
            "df42171173b14954929c0e09ac9022c6",
            "e3667d6e8d9145dfab61b5034ad3d170",
            "7e8be627d2fa4254a35c1fc4cffcac99"
          ]
        },
        "outputId": "5218ff4e-69a3-4e00-a072-b8ba7c708e7a"
      },
      "outputs": [
        {
          "output_type": "stream",
          "name": "stderr",
          "text": [
            "<ipython-input-55-f8182220746d>:6: TqdmDeprecationWarning: This function will be removed in tqdm==5.0.0\n",
            "Please use `tqdm.notebook.tqdm` instead of `tqdm.tqdm_notebook`\n",
            "  for batch in tqdm(val_dataloader):\n"
          ]
        },
        {
          "output_type": "display_data",
          "data": {
            "text/plain": [
              "  0%|          | 0/2500 [00:00<?, ?it/s]"
            ],
            "application/vnd.jupyter.widget-view+json": {
              "version_major": 2,
              "version_minor": 0,
              "model_id": "aac01f8ce4d342499207383c5fc2a7cf"
            }
          },
          "metadata": {}
        },
        {
          "output_type": "stream",
          "name": "stdout",
          "text": [
            "Точность модели на 10000 изображений: 76.6800\n"
          ]
        }
      ],
      "source": [
        "model.eval()\n",
        "\n",
        "correct = 0\n",
        "total = 0\n",
        "with torch.no_grad():\n",
        "    for batch in tqdm(val_dataloader):\n",
        "        image_batch, label_batch = batch\n",
        "        image_batch, label_batch = image_batch.to(device), label_batch.to(device)\n",
        "        \n",
        "        outputs = model (image_batch)\n",
        "        predicted = torch.argmax(outputs, dim =1)\n",
        "        \n",
        "        total += labels.size(0)\n",
        "        correct += (predicted == label_batch).sum().item()\n",
        "\n",
        "print(f\"Точность модели на 10000 изображений: {100 * correct / total:.4f}\")"
      ]
    },
    {
      "cell_type": "code",
      "source": [],
      "metadata": {
        "id": "VeSMGJ8m5H22"
      },
      "execution_count": null,
      "outputs": []
    },
    {
      "cell_type": "markdown",
      "metadata": {
        "id": "D1IrNhj9yL4s"
      },
      "source": [
        "WOW! We seriously improved accuracy of our model by just finetuning several linear layers. Here is the power of finetuning!\n",
        "Теперь Вы можете видеть, в чем польза transfer learning!"
      ]
    },
    {
      "cell_type": "code",
      "source": [
        "print(model)"
      ],
      "metadata": {
        "colab": {
          "base_uri": "https://localhost:8080/"
        },
        "id": "8z4Cc6CR4UjA",
        "outputId": "dc26fc2c-3bbd-4e0c-9e44-6a373886ba33"
      },
      "execution_count": 58,
      "outputs": [
        {
          "output_type": "stream",
          "name": "stdout",
          "text": [
            "AlexNet(\n",
            "  (features): Sequential(\n",
            "    (0): Conv2d(3, 64, kernel_size=(11, 11), stride=(4, 4), padding=(2, 2))\n",
            "    (1): ReLU(inplace=True)\n",
            "    (2): MaxPool2d(kernel_size=3, stride=2, padding=0, dilation=1, ceil_mode=False)\n",
            "    (3): Conv2d(64, 192, kernel_size=(5, 5), stride=(1, 1), padding=(2, 2))\n",
            "    (4): ReLU(inplace=True)\n",
            "    (5): MaxPool2d(kernel_size=3, stride=2, padding=0, dilation=1, ceil_mode=False)\n",
            "    (6): Conv2d(192, 384, kernel_size=(3, 3), stride=(1, 1), padding=(1, 1))\n",
            "    (7): ReLU(inplace=True)\n",
            "    (8): Conv2d(384, 256, kernel_size=(3, 3), stride=(1, 1), padding=(1, 1))\n",
            "    (9): ReLU(inplace=True)\n",
            "    (10): Conv2d(256, 256, kernel_size=(3, 3), stride=(1, 1), padding=(1, 1))\n",
            "    (11): ReLU(inplace=True)\n",
            "    (12): MaxPool2d(kernel_size=3, stride=2, padding=0, dilation=1, ceil_mode=False)\n",
            "  )\n",
            "  (avgpool): AdaptiveAvgPool2d(output_size=(6, 6))\n",
            "  (classifier): Sequential(\n",
            "    (0): Dropout(p=0.1, inplace=False)\n",
            "    (1): Linear(in_features=9216, out_features=128, bias=True)\n",
            "    (2): ReLU()\n",
            "    (3): Dropout(p=0.1, inplace=False)\n",
            "    (4): Linear(in_features=128, out_features=10, bias=True)\n",
            "    (5): ReLU()\n",
            "  )\n",
            ")\n"
          ]
        }
      ]
    },
    {
      "cell_type": "markdown",
      "source": [
        "проверяю, можно ли вообще не обучая модель ... наверное нет, потому то в ней нет классов тех6 что у нас? а может и есть "
      ],
      "metadata": {
        "id": "3NX6z4KQ4U5a"
      }
    },
    {
      "cell_type": "code",
      "source": [
        "model_orig = torchvision.models.alexnet(pretrained=True).to(device)\n",
        "print(model_orig)\n",
        "\n"
      ],
      "metadata": {
        "colab": {
          "base_uri": "https://localhost:8080/"
        },
        "id": "J4ql4FhZ4edK",
        "outputId": "122b359c-8362-404c-a61e-4400fd1661da"
      },
      "execution_count": 57,
      "outputs": [
        {
          "output_type": "stream",
          "name": "stdout",
          "text": [
            "AlexNet(\n",
            "  (features): Sequential(\n",
            "    (0): Conv2d(3, 64, kernel_size=(11, 11), stride=(4, 4), padding=(2, 2))\n",
            "    (1): ReLU(inplace=True)\n",
            "    (2): MaxPool2d(kernel_size=3, stride=2, padding=0, dilation=1, ceil_mode=False)\n",
            "    (3): Conv2d(64, 192, kernel_size=(5, 5), stride=(1, 1), padding=(2, 2))\n",
            "    (4): ReLU(inplace=True)\n",
            "    (5): MaxPool2d(kernel_size=3, stride=2, padding=0, dilation=1, ceil_mode=False)\n",
            "    (6): Conv2d(192, 384, kernel_size=(3, 3), stride=(1, 1), padding=(1, 1))\n",
            "    (7): ReLU(inplace=True)\n",
            "    (8): Conv2d(384, 256, kernel_size=(3, 3), stride=(1, 1), padding=(1, 1))\n",
            "    (9): ReLU(inplace=True)\n",
            "    (10): Conv2d(256, 256, kernel_size=(3, 3), stride=(1, 1), padding=(1, 1))\n",
            "    (11): ReLU(inplace=True)\n",
            "    (12): MaxPool2d(kernel_size=3, stride=2, padding=0, dilation=1, ceil_mode=False)\n",
            "  )\n",
            "  (avgpool): AdaptiveAvgPool2d(output_size=(6, 6))\n",
            "  (classifier): Sequential(\n",
            "    (0): Dropout(p=0.5, inplace=False)\n",
            "    (1): Linear(in_features=9216, out_features=4096, bias=True)\n",
            "    (2): ReLU(inplace=True)\n",
            "    (3): Dropout(p=0.5, inplace=False)\n",
            "    (4): Linear(in_features=4096, out_features=4096, bias=True)\n",
            "    (5): ReLU(inplace=True)\n",
            "    (6): Linear(in_features=4096, out_features=1000, bias=True)\n",
            "  )\n",
            ")\n"
          ]
        }
      ]
    },
    {
      "cell_type": "code",
      "source": [
        "model_orig.eval()\n",
        "\n",
        "correct = 0\n",
        "total = 0\n",
        "with torch.no_grad():\n",
        "    for batch in tqdm(val_dataloader):\n",
        "        image_batch, label_batch = batch\n",
        "        image_batch, label_batch = image_batch.to(device), label_batch.to(device)\n",
        "        \n",
        "        outputs = model_orig (image_batch)\n",
        "        predicted = torch.argmax(outputs, dim =1)\n",
        "        \n",
        "        total += labels.size(0)\n",
        "        correct += (predicted == label_batch).sum().item()\n",
        "\n",
        "print(f\"Точность модели на 10000 изображений: {100 * correct / total:.4f}\")"
      ],
      "metadata": {
        "colab": {
          "base_uri": "https://localhost:8080/",
          "height": 120,
          "referenced_widgets": [
            "b048f1284cea4346b940839a375b9c02",
            "79b065004a394df9ac41eb0439ad13d9",
            "33825edaf90841a89b58611bd1b05147",
            "0d711276479349aeb2f5ca7da351fe50",
            "1e95fdd13d7743aab6c577cd1032b166",
            "30e9338e746b41c3b3b723c7ee3ff478",
            "cc2b1cbb6b444983833afa39a73a1b27",
            "c08c60f8ee72408a86cc4311a0f30c56",
            "830abc41656a4464bf09e5159fdbc8c1",
            "e87619e44c3d4d98909c5eb02847e5b9",
            "783aa87e4b6e419e8a392f4f58299307"
          ]
        },
        "id": "XZRkdf185I1H",
        "outputId": "e37472d7-71e7-4feb-f7ae-ae9d11bf8e1f"
      },
      "execution_count": 59,
      "outputs": [
        {
          "output_type": "stream",
          "name": "stderr",
          "text": [
            "<ipython-input-59-369b9f8d8f67>:6: TqdmDeprecationWarning: This function will be removed in tqdm==5.0.0\n",
            "Please use `tqdm.notebook.tqdm` instead of `tqdm.tqdm_notebook`\n",
            "  for batch in tqdm(val_dataloader):\n"
          ]
        },
        {
          "output_type": "display_data",
          "data": {
            "text/plain": [
              "  0%|          | 0/2500 [00:00<?, ?it/s]"
            ],
            "application/vnd.jupyter.widget-view+json": {
              "version_major": 2,
              "version_minor": 0,
              "model_id": "b048f1284cea4346b940839a375b9c02"
            }
          },
          "metadata": {}
        },
        {
          "output_type": "stream",
          "name": "stdout",
          "text": [
            "Точность модели на 10000 изображений: 0.0100\n"
          ]
        }
      ]
    }
  ],
  "metadata": {
    "kernelspec": {
      "display_name": "Python 3 (ipykernel)",
      "language": "python",
      "name": "python3"
    },
    "language_info": {
      "codemirror_mode": {
        "name": "ipython",
        "version": 3
      },
      "file_extension": ".py",
      "mimetype": "text/x-python",
      "name": "python",
      "nbconvert_exporter": "python",
      "pygments_lexer": "ipython3",
      "version": "3.9.16"
    },
    "colab": {
      "provenance": []
    },
    "widgets": {
      "application/vnd.jupyter.widget-state+json": {
        "815c9b6ad76648dfa9f45297cb317ffd": {
          "model_module": "@jupyter-widgets/controls",
          "model_name": "HBoxModel",
          "model_module_version": "1.5.0",
          "state": {
            "_dom_classes": [],
            "_model_module": "@jupyter-widgets/controls",
            "_model_module_version": "1.5.0",
            "_model_name": "HBoxModel",
            "_view_count": null,
            "_view_module": "@jupyter-widgets/controls",
            "_view_module_version": "1.5.0",
            "_view_name": "HBoxView",
            "box_style": "",
            "children": [
              "IPY_MODEL_3bdb3cc32bea48c7a68b94107415355d",
              "IPY_MODEL_fd4ad90316a14807b320ae9324d7e275",
              "IPY_MODEL_3126dadf8090462380b4e8855998c90e"
            ],
            "layout": "IPY_MODEL_ad661c722e5245d594420c34921cb614"
          }
        },
        "3bdb3cc32bea48c7a68b94107415355d": {
          "model_module": "@jupyter-widgets/controls",
          "model_name": "HTMLModel",
          "model_module_version": "1.5.0",
          "state": {
            "_dom_classes": [],
            "_model_module": "@jupyter-widgets/controls",
            "_model_module_version": "1.5.0",
            "_model_name": "HTMLModel",
            "_view_count": null,
            "_view_module": "@jupyter-widgets/controls",
            "_view_module_version": "1.5.0",
            "_view_name": "HTMLView",
            "description": "",
            "description_tooltip": null,
            "layout": "IPY_MODEL_01c59226e1e94cbba1ce0b82a98afb8d",
            "placeholder": "​",
            "style": "IPY_MODEL_e0949d21d8da4a24aa2daa79dd5ef83a",
            "value": "100%"
          }
        },
        "fd4ad90316a14807b320ae9324d7e275": {
          "model_module": "@jupyter-widgets/controls",
          "model_name": "FloatProgressModel",
          "model_module_version": "1.5.0",
          "state": {
            "_dom_classes": [],
            "_model_module": "@jupyter-widgets/controls",
            "_model_module_version": "1.5.0",
            "_model_name": "FloatProgressModel",
            "_view_count": null,
            "_view_module": "@jupyter-widgets/controls",
            "_view_module_version": "1.5.0",
            "_view_name": "ProgressView",
            "bar_style": "success",
            "description": "",
            "description_tooltip": null,
            "layout": "IPY_MODEL_d6806e65ff38469b9508f06c1bb42472",
            "max": 170498071,
            "min": 0,
            "orientation": "horizontal",
            "style": "IPY_MODEL_4b812df7a1974dc6b7e1f760256fa1b6",
            "value": 170498071
          }
        },
        "3126dadf8090462380b4e8855998c90e": {
          "model_module": "@jupyter-widgets/controls",
          "model_name": "HTMLModel",
          "model_module_version": "1.5.0",
          "state": {
            "_dom_classes": [],
            "_model_module": "@jupyter-widgets/controls",
            "_model_module_version": "1.5.0",
            "_model_name": "HTMLModel",
            "_view_count": null,
            "_view_module": "@jupyter-widgets/controls",
            "_view_module_version": "1.5.0",
            "_view_name": "HTMLView",
            "description": "",
            "description_tooltip": null,
            "layout": "IPY_MODEL_afd2fe4e75b447908ae4a7ec067ee2c1",
            "placeholder": "​",
            "style": "IPY_MODEL_9338748f08b14baa8b902f64c2c898a4",
            "value": " 170498071/170498071 [00:10&lt;00:00, 17627689.30it/s]"
          }
        },
        "ad661c722e5245d594420c34921cb614": {
          "model_module": "@jupyter-widgets/base",
          "model_name": "LayoutModel",
          "model_module_version": "1.2.0",
          "state": {
            "_model_module": "@jupyter-widgets/base",
            "_model_module_version": "1.2.0",
            "_model_name": "LayoutModel",
            "_view_count": null,
            "_view_module": "@jupyter-widgets/base",
            "_view_module_version": "1.2.0",
            "_view_name": "LayoutView",
            "align_content": null,
            "align_items": null,
            "align_self": null,
            "border": null,
            "bottom": null,
            "display": null,
            "flex": null,
            "flex_flow": null,
            "grid_area": null,
            "grid_auto_columns": null,
            "grid_auto_flow": null,
            "grid_auto_rows": null,
            "grid_column": null,
            "grid_gap": null,
            "grid_row": null,
            "grid_template_areas": null,
            "grid_template_columns": null,
            "grid_template_rows": null,
            "height": null,
            "justify_content": null,
            "justify_items": null,
            "left": null,
            "margin": null,
            "max_height": null,
            "max_width": null,
            "min_height": null,
            "min_width": null,
            "object_fit": null,
            "object_position": null,
            "order": null,
            "overflow": null,
            "overflow_x": null,
            "overflow_y": null,
            "padding": null,
            "right": null,
            "top": null,
            "visibility": null,
            "width": null
          }
        },
        "01c59226e1e94cbba1ce0b82a98afb8d": {
          "model_module": "@jupyter-widgets/base",
          "model_name": "LayoutModel",
          "model_module_version": "1.2.0",
          "state": {
            "_model_module": "@jupyter-widgets/base",
            "_model_module_version": "1.2.0",
            "_model_name": "LayoutModel",
            "_view_count": null,
            "_view_module": "@jupyter-widgets/base",
            "_view_module_version": "1.2.0",
            "_view_name": "LayoutView",
            "align_content": null,
            "align_items": null,
            "align_self": null,
            "border": null,
            "bottom": null,
            "display": null,
            "flex": null,
            "flex_flow": null,
            "grid_area": null,
            "grid_auto_columns": null,
            "grid_auto_flow": null,
            "grid_auto_rows": null,
            "grid_column": null,
            "grid_gap": null,
            "grid_row": null,
            "grid_template_areas": null,
            "grid_template_columns": null,
            "grid_template_rows": null,
            "height": null,
            "justify_content": null,
            "justify_items": null,
            "left": null,
            "margin": null,
            "max_height": null,
            "max_width": null,
            "min_height": null,
            "min_width": null,
            "object_fit": null,
            "object_position": null,
            "order": null,
            "overflow": null,
            "overflow_x": null,
            "overflow_y": null,
            "padding": null,
            "right": null,
            "top": null,
            "visibility": null,
            "width": null
          }
        },
        "e0949d21d8da4a24aa2daa79dd5ef83a": {
          "model_module": "@jupyter-widgets/controls",
          "model_name": "DescriptionStyleModel",
          "model_module_version": "1.5.0",
          "state": {
            "_model_module": "@jupyter-widgets/controls",
            "_model_module_version": "1.5.0",
            "_model_name": "DescriptionStyleModel",
            "_view_count": null,
            "_view_module": "@jupyter-widgets/base",
            "_view_module_version": "1.2.0",
            "_view_name": "StyleView",
            "description_width": ""
          }
        },
        "d6806e65ff38469b9508f06c1bb42472": {
          "model_module": "@jupyter-widgets/base",
          "model_name": "LayoutModel",
          "model_module_version": "1.2.0",
          "state": {
            "_model_module": "@jupyter-widgets/base",
            "_model_module_version": "1.2.0",
            "_model_name": "LayoutModel",
            "_view_count": null,
            "_view_module": "@jupyter-widgets/base",
            "_view_module_version": "1.2.0",
            "_view_name": "LayoutView",
            "align_content": null,
            "align_items": null,
            "align_self": null,
            "border": null,
            "bottom": null,
            "display": null,
            "flex": null,
            "flex_flow": null,
            "grid_area": null,
            "grid_auto_columns": null,
            "grid_auto_flow": null,
            "grid_auto_rows": null,
            "grid_column": null,
            "grid_gap": null,
            "grid_row": null,
            "grid_template_areas": null,
            "grid_template_columns": null,
            "grid_template_rows": null,
            "height": null,
            "justify_content": null,
            "justify_items": null,
            "left": null,
            "margin": null,
            "max_height": null,
            "max_width": null,
            "min_height": null,
            "min_width": null,
            "object_fit": null,
            "object_position": null,
            "order": null,
            "overflow": null,
            "overflow_x": null,
            "overflow_y": null,
            "padding": null,
            "right": null,
            "top": null,
            "visibility": null,
            "width": null
          }
        },
        "4b812df7a1974dc6b7e1f760256fa1b6": {
          "model_module": "@jupyter-widgets/controls",
          "model_name": "ProgressStyleModel",
          "model_module_version": "1.5.0",
          "state": {
            "_model_module": "@jupyter-widgets/controls",
            "_model_module_version": "1.5.0",
            "_model_name": "ProgressStyleModel",
            "_view_count": null,
            "_view_module": "@jupyter-widgets/base",
            "_view_module_version": "1.2.0",
            "_view_name": "StyleView",
            "bar_color": null,
            "description_width": ""
          }
        },
        "afd2fe4e75b447908ae4a7ec067ee2c1": {
          "model_module": "@jupyter-widgets/base",
          "model_name": "LayoutModel",
          "model_module_version": "1.2.0",
          "state": {
            "_model_module": "@jupyter-widgets/base",
            "_model_module_version": "1.2.0",
            "_model_name": "LayoutModel",
            "_view_count": null,
            "_view_module": "@jupyter-widgets/base",
            "_view_module_version": "1.2.0",
            "_view_name": "LayoutView",
            "align_content": null,
            "align_items": null,
            "align_self": null,
            "border": null,
            "bottom": null,
            "display": null,
            "flex": null,
            "flex_flow": null,
            "grid_area": null,
            "grid_auto_columns": null,
            "grid_auto_flow": null,
            "grid_auto_rows": null,
            "grid_column": null,
            "grid_gap": null,
            "grid_row": null,
            "grid_template_areas": null,
            "grid_template_columns": null,
            "grid_template_rows": null,
            "height": null,
            "justify_content": null,
            "justify_items": null,
            "left": null,
            "margin": null,
            "max_height": null,
            "max_width": null,
            "min_height": null,
            "min_width": null,
            "object_fit": null,
            "object_position": null,
            "order": null,
            "overflow": null,
            "overflow_x": null,
            "overflow_y": null,
            "padding": null,
            "right": null,
            "top": null,
            "visibility": null,
            "width": null
          }
        },
        "9338748f08b14baa8b902f64c2c898a4": {
          "model_module": "@jupyter-widgets/controls",
          "model_name": "DescriptionStyleModel",
          "model_module_version": "1.5.0",
          "state": {
            "_model_module": "@jupyter-widgets/controls",
            "_model_module_version": "1.5.0",
            "_model_name": "DescriptionStyleModel",
            "_view_count": null,
            "_view_module": "@jupyter-widgets/base",
            "_view_module_version": "1.2.0",
            "_view_name": "StyleView",
            "description_width": ""
          }
        },
        "b990b877ee9e4098b443687e3a5215de": {
          "model_module": "@jupyter-widgets/controls",
          "model_name": "HBoxModel",
          "model_module_version": "1.5.0",
          "state": {
            "_dom_classes": [],
            "_model_module": "@jupyter-widgets/controls",
            "_model_module_version": "1.5.0",
            "_model_name": "HBoxModel",
            "_view_count": null,
            "_view_module": "@jupyter-widgets/controls",
            "_view_module_version": "1.5.0",
            "_view_name": "HBoxView",
            "box_style": "",
            "children": [
              "IPY_MODEL_8acb849a74914ca3a34fc623ed9e0a19",
              "IPY_MODEL_0bb001de8e3f4634aaeaf8d6a95e3df9",
              "IPY_MODEL_3db5025f295441e693160a2165a29fef"
            ],
            "layout": "IPY_MODEL_1907e22502c74976ad224c05476d1e5c"
          }
        },
        "8acb849a74914ca3a34fc623ed9e0a19": {
          "model_module": "@jupyter-widgets/controls",
          "model_name": "HTMLModel",
          "model_module_version": "1.5.0",
          "state": {
            "_dom_classes": [],
            "_model_module": "@jupyter-widgets/controls",
            "_model_module_version": "1.5.0",
            "_model_name": "HTMLModel",
            "_view_count": null,
            "_view_module": "@jupyter-widgets/controls",
            "_view_module_version": "1.5.0",
            "_view_name": "HTMLView",
            "description": "",
            "description_tooltip": null,
            "layout": "IPY_MODEL_5ae4569eab88430186da510c41d20337",
            "placeholder": "​",
            "style": "IPY_MODEL_bbeca8504764433c8275e1b5097f4c0f",
            "value": "100%"
          }
        },
        "0bb001de8e3f4634aaeaf8d6a95e3df9": {
          "model_module": "@jupyter-widgets/controls",
          "model_name": "FloatProgressModel",
          "model_module_version": "1.5.0",
          "state": {
            "_dom_classes": [],
            "_model_module": "@jupyter-widgets/controls",
            "_model_module_version": "1.5.0",
            "_model_name": "FloatProgressModel",
            "_view_count": null,
            "_view_module": "@jupyter-widgets/controls",
            "_view_module_version": "1.5.0",
            "_view_name": "ProgressView",
            "bar_style": "success",
            "description": "",
            "description_tooltip": null,
            "layout": "IPY_MODEL_d220c94c45704ee9a12c5d096f74471e",
            "max": 12500,
            "min": 0,
            "orientation": "horizontal",
            "style": "IPY_MODEL_75f0235ca0d34f159de88b3b2a1d8ef5",
            "value": 12500
          }
        },
        "3db5025f295441e693160a2165a29fef": {
          "model_module": "@jupyter-widgets/controls",
          "model_name": "HTMLModel",
          "model_module_version": "1.5.0",
          "state": {
            "_dom_classes": [],
            "_model_module": "@jupyter-widgets/controls",
            "_model_module_version": "1.5.0",
            "_model_name": "HTMLModel",
            "_view_count": null,
            "_view_module": "@jupyter-widgets/controls",
            "_view_module_version": "1.5.0",
            "_view_name": "HTMLView",
            "description": "",
            "description_tooltip": null,
            "layout": "IPY_MODEL_5cfa043f0fc043fd8cc76cca5207a1ad",
            "placeholder": "​",
            "style": "IPY_MODEL_7a98e2a308824133af4a6de6c1eda764",
            "value": " 12500/12500 [01:35&lt;00:00, 133.52it/s]"
          }
        },
        "1907e22502c74976ad224c05476d1e5c": {
          "model_module": "@jupyter-widgets/base",
          "model_name": "LayoutModel",
          "model_module_version": "1.2.0",
          "state": {
            "_model_module": "@jupyter-widgets/base",
            "_model_module_version": "1.2.0",
            "_model_name": "LayoutModel",
            "_view_count": null,
            "_view_module": "@jupyter-widgets/base",
            "_view_module_version": "1.2.0",
            "_view_name": "LayoutView",
            "align_content": null,
            "align_items": null,
            "align_self": null,
            "border": null,
            "bottom": null,
            "display": null,
            "flex": null,
            "flex_flow": null,
            "grid_area": null,
            "grid_auto_columns": null,
            "grid_auto_flow": null,
            "grid_auto_rows": null,
            "grid_column": null,
            "grid_gap": null,
            "grid_row": null,
            "grid_template_areas": null,
            "grid_template_columns": null,
            "grid_template_rows": null,
            "height": null,
            "justify_content": null,
            "justify_items": null,
            "left": null,
            "margin": null,
            "max_height": null,
            "max_width": null,
            "min_height": null,
            "min_width": null,
            "object_fit": null,
            "object_position": null,
            "order": null,
            "overflow": null,
            "overflow_x": null,
            "overflow_y": null,
            "padding": null,
            "right": null,
            "top": null,
            "visibility": null,
            "width": null
          }
        },
        "5ae4569eab88430186da510c41d20337": {
          "model_module": "@jupyter-widgets/base",
          "model_name": "LayoutModel",
          "model_module_version": "1.2.0",
          "state": {
            "_model_module": "@jupyter-widgets/base",
            "_model_module_version": "1.2.0",
            "_model_name": "LayoutModel",
            "_view_count": null,
            "_view_module": "@jupyter-widgets/base",
            "_view_module_version": "1.2.0",
            "_view_name": "LayoutView",
            "align_content": null,
            "align_items": null,
            "align_self": null,
            "border": null,
            "bottom": null,
            "display": null,
            "flex": null,
            "flex_flow": null,
            "grid_area": null,
            "grid_auto_columns": null,
            "grid_auto_flow": null,
            "grid_auto_rows": null,
            "grid_column": null,
            "grid_gap": null,
            "grid_row": null,
            "grid_template_areas": null,
            "grid_template_columns": null,
            "grid_template_rows": null,
            "height": null,
            "justify_content": null,
            "justify_items": null,
            "left": null,
            "margin": null,
            "max_height": null,
            "max_width": null,
            "min_height": null,
            "min_width": null,
            "object_fit": null,
            "object_position": null,
            "order": null,
            "overflow": null,
            "overflow_x": null,
            "overflow_y": null,
            "padding": null,
            "right": null,
            "top": null,
            "visibility": null,
            "width": null
          }
        },
        "bbeca8504764433c8275e1b5097f4c0f": {
          "model_module": "@jupyter-widgets/controls",
          "model_name": "DescriptionStyleModel",
          "model_module_version": "1.5.0",
          "state": {
            "_model_module": "@jupyter-widgets/controls",
            "_model_module_version": "1.5.0",
            "_model_name": "DescriptionStyleModel",
            "_view_count": null,
            "_view_module": "@jupyter-widgets/base",
            "_view_module_version": "1.2.0",
            "_view_name": "StyleView",
            "description_width": ""
          }
        },
        "d220c94c45704ee9a12c5d096f74471e": {
          "model_module": "@jupyter-widgets/base",
          "model_name": "LayoutModel",
          "model_module_version": "1.2.0",
          "state": {
            "_model_module": "@jupyter-widgets/base",
            "_model_module_version": "1.2.0",
            "_model_name": "LayoutModel",
            "_view_count": null,
            "_view_module": "@jupyter-widgets/base",
            "_view_module_version": "1.2.0",
            "_view_name": "LayoutView",
            "align_content": null,
            "align_items": null,
            "align_self": null,
            "border": null,
            "bottom": null,
            "display": null,
            "flex": null,
            "flex_flow": null,
            "grid_area": null,
            "grid_auto_columns": null,
            "grid_auto_flow": null,
            "grid_auto_rows": null,
            "grid_column": null,
            "grid_gap": null,
            "grid_row": null,
            "grid_template_areas": null,
            "grid_template_columns": null,
            "grid_template_rows": null,
            "height": null,
            "justify_content": null,
            "justify_items": null,
            "left": null,
            "margin": null,
            "max_height": null,
            "max_width": null,
            "min_height": null,
            "min_width": null,
            "object_fit": null,
            "object_position": null,
            "order": null,
            "overflow": null,
            "overflow_x": null,
            "overflow_y": null,
            "padding": null,
            "right": null,
            "top": null,
            "visibility": null,
            "width": null
          }
        },
        "75f0235ca0d34f159de88b3b2a1d8ef5": {
          "model_module": "@jupyter-widgets/controls",
          "model_name": "ProgressStyleModel",
          "model_module_version": "1.5.0",
          "state": {
            "_model_module": "@jupyter-widgets/controls",
            "_model_module_version": "1.5.0",
            "_model_name": "ProgressStyleModel",
            "_view_count": null,
            "_view_module": "@jupyter-widgets/base",
            "_view_module_version": "1.2.0",
            "_view_name": "StyleView",
            "bar_color": null,
            "description_width": ""
          }
        },
        "5cfa043f0fc043fd8cc76cca5207a1ad": {
          "model_module": "@jupyter-widgets/base",
          "model_name": "LayoutModel",
          "model_module_version": "1.2.0",
          "state": {
            "_model_module": "@jupyter-widgets/base",
            "_model_module_version": "1.2.0",
            "_model_name": "LayoutModel",
            "_view_count": null,
            "_view_module": "@jupyter-widgets/base",
            "_view_module_version": "1.2.0",
            "_view_name": "LayoutView",
            "align_content": null,
            "align_items": null,
            "align_self": null,
            "border": null,
            "bottom": null,
            "display": null,
            "flex": null,
            "flex_flow": null,
            "grid_area": null,
            "grid_auto_columns": null,
            "grid_auto_flow": null,
            "grid_auto_rows": null,
            "grid_column": null,
            "grid_gap": null,
            "grid_row": null,
            "grid_template_areas": null,
            "grid_template_columns": null,
            "grid_template_rows": null,
            "height": null,
            "justify_content": null,
            "justify_items": null,
            "left": null,
            "margin": null,
            "max_height": null,
            "max_width": null,
            "min_height": null,
            "min_width": null,
            "object_fit": null,
            "object_position": null,
            "order": null,
            "overflow": null,
            "overflow_x": null,
            "overflow_y": null,
            "padding": null,
            "right": null,
            "top": null,
            "visibility": null,
            "width": null
          }
        },
        "7a98e2a308824133af4a6de6c1eda764": {
          "model_module": "@jupyter-widgets/controls",
          "model_name": "DescriptionStyleModel",
          "model_module_version": "1.5.0",
          "state": {
            "_model_module": "@jupyter-widgets/controls",
            "_model_module_version": "1.5.0",
            "_model_name": "DescriptionStyleModel",
            "_view_count": null,
            "_view_module": "@jupyter-widgets/base",
            "_view_module_version": "1.2.0",
            "_view_name": "StyleView",
            "description_width": ""
          }
        },
        "861788d2e3fc496492a46e2663b5a47c": {
          "model_module": "@jupyter-widgets/controls",
          "model_name": "HBoxModel",
          "model_module_version": "1.5.0",
          "state": {
            "_dom_classes": [],
            "_model_module": "@jupyter-widgets/controls",
            "_model_module_version": "1.5.0",
            "_model_name": "HBoxModel",
            "_view_count": null,
            "_view_module": "@jupyter-widgets/controls",
            "_view_module_version": "1.5.0",
            "_view_name": "HBoxView",
            "box_style": "",
            "children": [
              "IPY_MODEL_f62cdad012f94567a919f37bb4cd1d83",
              "IPY_MODEL_e325eadc73cc411fa7b8f0977c21386c",
              "IPY_MODEL_6430ec80689945e1a383eb4f7dc7c1e5"
            ],
            "layout": "IPY_MODEL_7ab2ab1f69b14818acdd0b903dcc9d5e"
          }
        },
        "f62cdad012f94567a919f37bb4cd1d83": {
          "model_module": "@jupyter-widgets/controls",
          "model_name": "HTMLModel",
          "model_module_version": "1.5.0",
          "state": {
            "_dom_classes": [],
            "_model_module": "@jupyter-widgets/controls",
            "_model_module_version": "1.5.0",
            "_model_name": "HTMLModel",
            "_view_count": null,
            "_view_module": "@jupyter-widgets/controls",
            "_view_module_version": "1.5.0",
            "_view_name": "HTMLView",
            "description": "",
            "description_tooltip": null,
            "layout": "IPY_MODEL_0a82efb801b049f583f04254a0d8a62f",
            "placeholder": "​",
            "style": "IPY_MODEL_c485cae0e0e34955bf06d8029ae42929",
            "value": "100%"
          }
        },
        "e325eadc73cc411fa7b8f0977c21386c": {
          "model_module": "@jupyter-widgets/controls",
          "model_name": "FloatProgressModel",
          "model_module_version": "1.5.0",
          "state": {
            "_dom_classes": [],
            "_model_module": "@jupyter-widgets/controls",
            "_model_module_version": "1.5.0",
            "_model_name": "FloatProgressModel",
            "_view_count": null,
            "_view_module": "@jupyter-widgets/controls",
            "_view_module_version": "1.5.0",
            "_view_name": "ProgressView",
            "bar_style": "success",
            "description": "",
            "description_tooltip": null,
            "layout": "IPY_MODEL_3f4350031f2a41ccbf65c7cd9598ec27",
            "max": 12500,
            "min": 0,
            "orientation": "horizontal",
            "style": "IPY_MODEL_f8a479107fab483ab5d008f50238cc39",
            "value": 12500
          }
        },
        "6430ec80689945e1a383eb4f7dc7c1e5": {
          "model_module": "@jupyter-widgets/controls",
          "model_name": "HTMLModel",
          "model_module_version": "1.5.0",
          "state": {
            "_dom_classes": [],
            "_model_module": "@jupyter-widgets/controls",
            "_model_module_version": "1.5.0",
            "_model_name": "HTMLModel",
            "_view_count": null,
            "_view_module": "@jupyter-widgets/controls",
            "_view_module_version": "1.5.0",
            "_view_name": "HTMLView",
            "description": "",
            "description_tooltip": null,
            "layout": "IPY_MODEL_4807c37e60cd456fbb17e39577a88a18",
            "placeholder": "​",
            "style": "IPY_MODEL_43e4850dc3f94942aa75411a98167536",
            "value": " 12500/12500 [01:36&lt;00:00, 132.32it/s]"
          }
        },
        "7ab2ab1f69b14818acdd0b903dcc9d5e": {
          "model_module": "@jupyter-widgets/base",
          "model_name": "LayoutModel",
          "model_module_version": "1.2.0",
          "state": {
            "_model_module": "@jupyter-widgets/base",
            "_model_module_version": "1.2.0",
            "_model_name": "LayoutModel",
            "_view_count": null,
            "_view_module": "@jupyter-widgets/base",
            "_view_module_version": "1.2.0",
            "_view_name": "LayoutView",
            "align_content": null,
            "align_items": null,
            "align_self": null,
            "border": null,
            "bottom": null,
            "display": null,
            "flex": null,
            "flex_flow": null,
            "grid_area": null,
            "grid_auto_columns": null,
            "grid_auto_flow": null,
            "grid_auto_rows": null,
            "grid_column": null,
            "grid_gap": null,
            "grid_row": null,
            "grid_template_areas": null,
            "grid_template_columns": null,
            "grid_template_rows": null,
            "height": null,
            "justify_content": null,
            "justify_items": null,
            "left": null,
            "margin": null,
            "max_height": null,
            "max_width": null,
            "min_height": null,
            "min_width": null,
            "object_fit": null,
            "object_position": null,
            "order": null,
            "overflow": null,
            "overflow_x": null,
            "overflow_y": null,
            "padding": null,
            "right": null,
            "top": null,
            "visibility": null,
            "width": null
          }
        },
        "0a82efb801b049f583f04254a0d8a62f": {
          "model_module": "@jupyter-widgets/base",
          "model_name": "LayoutModel",
          "model_module_version": "1.2.0",
          "state": {
            "_model_module": "@jupyter-widgets/base",
            "_model_module_version": "1.2.0",
            "_model_name": "LayoutModel",
            "_view_count": null,
            "_view_module": "@jupyter-widgets/base",
            "_view_module_version": "1.2.0",
            "_view_name": "LayoutView",
            "align_content": null,
            "align_items": null,
            "align_self": null,
            "border": null,
            "bottom": null,
            "display": null,
            "flex": null,
            "flex_flow": null,
            "grid_area": null,
            "grid_auto_columns": null,
            "grid_auto_flow": null,
            "grid_auto_rows": null,
            "grid_column": null,
            "grid_gap": null,
            "grid_row": null,
            "grid_template_areas": null,
            "grid_template_columns": null,
            "grid_template_rows": null,
            "height": null,
            "justify_content": null,
            "justify_items": null,
            "left": null,
            "margin": null,
            "max_height": null,
            "max_width": null,
            "min_height": null,
            "min_width": null,
            "object_fit": null,
            "object_position": null,
            "order": null,
            "overflow": null,
            "overflow_x": null,
            "overflow_y": null,
            "padding": null,
            "right": null,
            "top": null,
            "visibility": null,
            "width": null
          }
        },
        "c485cae0e0e34955bf06d8029ae42929": {
          "model_module": "@jupyter-widgets/controls",
          "model_name": "DescriptionStyleModel",
          "model_module_version": "1.5.0",
          "state": {
            "_model_module": "@jupyter-widgets/controls",
            "_model_module_version": "1.5.0",
            "_model_name": "DescriptionStyleModel",
            "_view_count": null,
            "_view_module": "@jupyter-widgets/base",
            "_view_module_version": "1.2.0",
            "_view_name": "StyleView",
            "description_width": ""
          }
        },
        "3f4350031f2a41ccbf65c7cd9598ec27": {
          "model_module": "@jupyter-widgets/base",
          "model_name": "LayoutModel",
          "model_module_version": "1.2.0",
          "state": {
            "_model_module": "@jupyter-widgets/base",
            "_model_module_version": "1.2.0",
            "_model_name": "LayoutModel",
            "_view_count": null,
            "_view_module": "@jupyter-widgets/base",
            "_view_module_version": "1.2.0",
            "_view_name": "LayoutView",
            "align_content": null,
            "align_items": null,
            "align_self": null,
            "border": null,
            "bottom": null,
            "display": null,
            "flex": null,
            "flex_flow": null,
            "grid_area": null,
            "grid_auto_columns": null,
            "grid_auto_flow": null,
            "grid_auto_rows": null,
            "grid_column": null,
            "grid_gap": null,
            "grid_row": null,
            "grid_template_areas": null,
            "grid_template_columns": null,
            "grid_template_rows": null,
            "height": null,
            "justify_content": null,
            "justify_items": null,
            "left": null,
            "margin": null,
            "max_height": null,
            "max_width": null,
            "min_height": null,
            "min_width": null,
            "object_fit": null,
            "object_position": null,
            "order": null,
            "overflow": null,
            "overflow_x": null,
            "overflow_y": null,
            "padding": null,
            "right": null,
            "top": null,
            "visibility": null,
            "width": null
          }
        },
        "f8a479107fab483ab5d008f50238cc39": {
          "model_module": "@jupyter-widgets/controls",
          "model_name": "ProgressStyleModel",
          "model_module_version": "1.5.0",
          "state": {
            "_model_module": "@jupyter-widgets/controls",
            "_model_module_version": "1.5.0",
            "_model_name": "ProgressStyleModel",
            "_view_count": null,
            "_view_module": "@jupyter-widgets/base",
            "_view_module_version": "1.2.0",
            "_view_name": "StyleView",
            "bar_color": null,
            "description_width": ""
          }
        },
        "4807c37e60cd456fbb17e39577a88a18": {
          "model_module": "@jupyter-widgets/base",
          "model_name": "LayoutModel",
          "model_module_version": "1.2.0",
          "state": {
            "_model_module": "@jupyter-widgets/base",
            "_model_module_version": "1.2.0",
            "_model_name": "LayoutModel",
            "_view_count": null,
            "_view_module": "@jupyter-widgets/base",
            "_view_module_version": "1.2.0",
            "_view_name": "LayoutView",
            "align_content": null,
            "align_items": null,
            "align_self": null,
            "border": null,
            "bottom": null,
            "display": null,
            "flex": null,
            "flex_flow": null,
            "grid_area": null,
            "grid_auto_columns": null,
            "grid_auto_flow": null,
            "grid_auto_rows": null,
            "grid_column": null,
            "grid_gap": null,
            "grid_row": null,
            "grid_template_areas": null,
            "grid_template_columns": null,
            "grid_template_rows": null,
            "height": null,
            "justify_content": null,
            "justify_items": null,
            "left": null,
            "margin": null,
            "max_height": null,
            "max_width": null,
            "min_height": null,
            "min_width": null,
            "object_fit": null,
            "object_position": null,
            "order": null,
            "overflow": null,
            "overflow_x": null,
            "overflow_y": null,
            "padding": null,
            "right": null,
            "top": null,
            "visibility": null,
            "width": null
          }
        },
        "43e4850dc3f94942aa75411a98167536": {
          "model_module": "@jupyter-widgets/controls",
          "model_name": "DescriptionStyleModel",
          "model_module_version": "1.5.0",
          "state": {
            "_model_module": "@jupyter-widgets/controls",
            "_model_module_version": "1.5.0",
            "_model_name": "DescriptionStyleModel",
            "_view_count": null,
            "_view_module": "@jupyter-widgets/base",
            "_view_module_version": "1.2.0",
            "_view_name": "StyleView",
            "description_width": ""
          }
        },
        "4a461fc07988440493ee236ef2d196cd": {
          "model_module": "@jupyter-widgets/controls",
          "model_name": "HBoxModel",
          "model_module_version": "1.5.0",
          "state": {
            "_dom_classes": [],
            "_model_module": "@jupyter-widgets/controls",
            "_model_module_version": "1.5.0",
            "_model_name": "HBoxModel",
            "_view_count": null,
            "_view_module": "@jupyter-widgets/controls",
            "_view_module_version": "1.5.0",
            "_view_name": "HBoxView",
            "box_style": "",
            "children": [
              "IPY_MODEL_7dc21f83ba8042f3ab507349b1f1e1d3",
              "IPY_MODEL_86f2226f3ec145cea08e7f6ffcbe62dc",
              "IPY_MODEL_5184e173bbba44a086b39234d1f62fec"
            ],
            "layout": "IPY_MODEL_d06318191a1342bc8d13f11714accc73"
          }
        },
        "7dc21f83ba8042f3ab507349b1f1e1d3": {
          "model_module": "@jupyter-widgets/controls",
          "model_name": "HTMLModel",
          "model_module_version": "1.5.0",
          "state": {
            "_dom_classes": [],
            "_model_module": "@jupyter-widgets/controls",
            "_model_module_version": "1.5.0",
            "_model_name": "HTMLModel",
            "_view_count": null,
            "_view_module": "@jupyter-widgets/controls",
            "_view_module_version": "1.5.0",
            "_view_name": "HTMLView",
            "description": "",
            "description_tooltip": null,
            "layout": "IPY_MODEL_06f7a0d79e06491ea54cedb684617532",
            "placeholder": "​",
            "style": "IPY_MODEL_117c6d8bff444198848f1afd7709d584",
            "value": "100%"
          }
        },
        "86f2226f3ec145cea08e7f6ffcbe62dc": {
          "model_module": "@jupyter-widgets/controls",
          "model_name": "FloatProgressModel",
          "model_module_version": "1.5.0",
          "state": {
            "_dom_classes": [],
            "_model_module": "@jupyter-widgets/controls",
            "_model_module_version": "1.5.0",
            "_model_name": "FloatProgressModel",
            "_view_count": null,
            "_view_module": "@jupyter-widgets/controls",
            "_view_module_version": "1.5.0",
            "_view_name": "ProgressView",
            "bar_style": "success",
            "description": "",
            "description_tooltip": null,
            "layout": "IPY_MODEL_82b86ab465eb471eb1116a00366e8eef",
            "max": 2500,
            "min": 0,
            "orientation": "horizontal",
            "style": "IPY_MODEL_4dfa413a4e8646a9bf72c22d32d1b847",
            "value": 2500
          }
        },
        "5184e173bbba44a086b39234d1f62fec": {
          "model_module": "@jupyter-widgets/controls",
          "model_name": "HTMLModel",
          "model_module_version": "1.5.0",
          "state": {
            "_dom_classes": [],
            "_model_module": "@jupyter-widgets/controls",
            "_model_module_version": "1.5.0",
            "_model_name": "HTMLModel",
            "_view_count": null,
            "_view_module": "@jupyter-widgets/controls",
            "_view_module_version": "1.5.0",
            "_view_name": "HTMLView",
            "description": "",
            "description_tooltip": null,
            "layout": "IPY_MODEL_16fde5fe6d0b4e0e8bc8e2328786b434",
            "placeholder": "​",
            "style": "IPY_MODEL_9f8906de37fe4047a689f3db14ec605c",
            "value": " 2500/2500 [00:10&lt;00:00, 168.61it/s]"
          }
        },
        "d06318191a1342bc8d13f11714accc73": {
          "model_module": "@jupyter-widgets/base",
          "model_name": "LayoutModel",
          "model_module_version": "1.2.0",
          "state": {
            "_model_module": "@jupyter-widgets/base",
            "_model_module_version": "1.2.0",
            "_model_name": "LayoutModel",
            "_view_count": null,
            "_view_module": "@jupyter-widgets/base",
            "_view_module_version": "1.2.0",
            "_view_name": "LayoutView",
            "align_content": null,
            "align_items": null,
            "align_self": null,
            "border": null,
            "bottom": null,
            "display": null,
            "flex": null,
            "flex_flow": null,
            "grid_area": null,
            "grid_auto_columns": null,
            "grid_auto_flow": null,
            "grid_auto_rows": null,
            "grid_column": null,
            "grid_gap": null,
            "grid_row": null,
            "grid_template_areas": null,
            "grid_template_columns": null,
            "grid_template_rows": null,
            "height": null,
            "justify_content": null,
            "justify_items": null,
            "left": null,
            "margin": null,
            "max_height": null,
            "max_width": null,
            "min_height": null,
            "min_width": null,
            "object_fit": null,
            "object_position": null,
            "order": null,
            "overflow": null,
            "overflow_x": null,
            "overflow_y": null,
            "padding": null,
            "right": null,
            "top": null,
            "visibility": null,
            "width": null
          }
        },
        "06f7a0d79e06491ea54cedb684617532": {
          "model_module": "@jupyter-widgets/base",
          "model_name": "LayoutModel",
          "model_module_version": "1.2.0",
          "state": {
            "_model_module": "@jupyter-widgets/base",
            "_model_module_version": "1.2.0",
            "_model_name": "LayoutModel",
            "_view_count": null,
            "_view_module": "@jupyter-widgets/base",
            "_view_module_version": "1.2.0",
            "_view_name": "LayoutView",
            "align_content": null,
            "align_items": null,
            "align_self": null,
            "border": null,
            "bottom": null,
            "display": null,
            "flex": null,
            "flex_flow": null,
            "grid_area": null,
            "grid_auto_columns": null,
            "grid_auto_flow": null,
            "grid_auto_rows": null,
            "grid_column": null,
            "grid_gap": null,
            "grid_row": null,
            "grid_template_areas": null,
            "grid_template_columns": null,
            "grid_template_rows": null,
            "height": null,
            "justify_content": null,
            "justify_items": null,
            "left": null,
            "margin": null,
            "max_height": null,
            "max_width": null,
            "min_height": null,
            "min_width": null,
            "object_fit": null,
            "object_position": null,
            "order": null,
            "overflow": null,
            "overflow_x": null,
            "overflow_y": null,
            "padding": null,
            "right": null,
            "top": null,
            "visibility": null,
            "width": null
          }
        },
        "117c6d8bff444198848f1afd7709d584": {
          "model_module": "@jupyter-widgets/controls",
          "model_name": "DescriptionStyleModel",
          "model_module_version": "1.5.0",
          "state": {
            "_model_module": "@jupyter-widgets/controls",
            "_model_module_version": "1.5.0",
            "_model_name": "DescriptionStyleModel",
            "_view_count": null,
            "_view_module": "@jupyter-widgets/base",
            "_view_module_version": "1.2.0",
            "_view_name": "StyleView",
            "description_width": ""
          }
        },
        "82b86ab465eb471eb1116a00366e8eef": {
          "model_module": "@jupyter-widgets/base",
          "model_name": "LayoutModel",
          "model_module_version": "1.2.0",
          "state": {
            "_model_module": "@jupyter-widgets/base",
            "_model_module_version": "1.2.0",
            "_model_name": "LayoutModel",
            "_view_count": null,
            "_view_module": "@jupyter-widgets/base",
            "_view_module_version": "1.2.0",
            "_view_name": "LayoutView",
            "align_content": null,
            "align_items": null,
            "align_self": null,
            "border": null,
            "bottom": null,
            "display": null,
            "flex": null,
            "flex_flow": null,
            "grid_area": null,
            "grid_auto_columns": null,
            "grid_auto_flow": null,
            "grid_auto_rows": null,
            "grid_column": null,
            "grid_gap": null,
            "grid_row": null,
            "grid_template_areas": null,
            "grid_template_columns": null,
            "grid_template_rows": null,
            "height": null,
            "justify_content": null,
            "justify_items": null,
            "left": null,
            "margin": null,
            "max_height": null,
            "max_width": null,
            "min_height": null,
            "min_width": null,
            "object_fit": null,
            "object_position": null,
            "order": null,
            "overflow": null,
            "overflow_x": null,
            "overflow_y": null,
            "padding": null,
            "right": null,
            "top": null,
            "visibility": null,
            "width": null
          }
        },
        "4dfa413a4e8646a9bf72c22d32d1b847": {
          "model_module": "@jupyter-widgets/controls",
          "model_name": "ProgressStyleModel",
          "model_module_version": "1.5.0",
          "state": {
            "_model_module": "@jupyter-widgets/controls",
            "_model_module_version": "1.5.0",
            "_model_name": "ProgressStyleModel",
            "_view_count": null,
            "_view_module": "@jupyter-widgets/base",
            "_view_module_version": "1.2.0",
            "_view_name": "StyleView",
            "bar_color": null,
            "description_width": ""
          }
        },
        "16fde5fe6d0b4e0e8bc8e2328786b434": {
          "model_module": "@jupyter-widgets/base",
          "model_name": "LayoutModel",
          "model_module_version": "1.2.0",
          "state": {
            "_model_module": "@jupyter-widgets/base",
            "_model_module_version": "1.2.0",
            "_model_name": "LayoutModel",
            "_view_count": null,
            "_view_module": "@jupyter-widgets/base",
            "_view_module_version": "1.2.0",
            "_view_name": "LayoutView",
            "align_content": null,
            "align_items": null,
            "align_self": null,
            "border": null,
            "bottom": null,
            "display": null,
            "flex": null,
            "flex_flow": null,
            "grid_area": null,
            "grid_auto_columns": null,
            "grid_auto_flow": null,
            "grid_auto_rows": null,
            "grid_column": null,
            "grid_gap": null,
            "grid_row": null,
            "grid_template_areas": null,
            "grid_template_columns": null,
            "grid_template_rows": null,
            "height": null,
            "justify_content": null,
            "justify_items": null,
            "left": null,
            "margin": null,
            "max_height": null,
            "max_width": null,
            "min_height": null,
            "min_width": null,
            "object_fit": null,
            "object_position": null,
            "order": null,
            "overflow": null,
            "overflow_x": null,
            "overflow_y": null,
            "padding": null,
            "right": null,
            "top": null,
            "visibility": null,
            "width": null
          }
        },
        "9f8906de37fe4047a689f3db14ec605c": {
          "model_module": "@jupyter-widgets/controls",
          "model_name": "DescriptionStyleModel",
          "model_module_version": "1.5.0",
          "state": {
            "_model_module": "@jupyter-widgets/controls",
            "_model_module_version": "1.5.0",
            "_model_name": "DescriptionStyleModel",
            "_view_count": null,
            "_view_module": "@jupyter-widgets/base",
            "_view_module_version": "1.2.0",
            "_view_name": "StyleView",
            "description_width": ""
          }
        },
        "23b4382623b24ed9823f32685c1634c0": {
          "model_module": "@jupyter-widgets/controls",
          "model_name": "HBoxModel",
          "model_module_version": "1.5.0",
          "state": {
            "_dom_classes": [],
            "_model_module": "@jupyter-widgets/controls",
            "_model_module_version": "1.5.0",
            "_model_name": "HBoxModel",
            "_view_count": null,
            "_view_module": "@jupyter-widgets/controls",
            "_view_module_version": "1.5.0",
            "_view_name": "HBoxView",
            "box_style": "",
            "children": [
              "IPY_MODEL_83103f4cee4441589e4f8228cd3e1c46",
              "IPY_MODEL_f12117c0d8fb4ee0a26f212d95586f44",
              "IPY_MODEL_3faaad34d7b1449f918da8be6143ac41"
            ],
            "layout": "IPY_MODEL_8f5c8c374a2e416b973ddafe775f7e0e"
          }
        },
        "83103f4cee4441589e4f8228cd3e1c46": {
          "model_module": "@jupyter-widgets/controls",
          "model_name": "HTMLModel",
          "model_module_version": "1.5.0",
          "state": {
            "_dom_classes": [],
            "_model_module": "@jupyter-widgets/controls",
            "_model_module_version": "1.5.0",
            "_model_name": "HTMLModel",
            "_view_count": null,
            "_view_module": "@jupyter-widgets/controls",
            "_view_module_version": "1.5.0",
            "_view_name": "HTMLView",
            "description": "",
            "description_tooltip": null,
            "layout": "IPY_MODEL_561a9c98639c4afea39d889c6515c5f5",
            "placeholder": "​",
            "style": "IPY_MODEL_174c6f2bb1c542179489fc47f003a968",
            "value": "100%"
          }
        },
        "f12117c0d8fb4ee0a26f212d95586f44": {
          "model_module": "@jupyter-widgets/controls",
          "model_name": "FloatProgressModel",
          "model_module_version": "1.5.0",
          "state": {
            "_dom_classes": [],
            "_model_module": "@jupyter-widgets/controls",
            "_model_module_version": "1.5.0",
            "_model_name": "FloatProgressModel",
            "_view_count": null,
            "_view_module": "@jupyter-widgets/controls",
            "_view_module_version": "1.5.0",
            "_view_name": "ProgressView",
            "bar_style": "success",
            "description": "",
            "description_tooltip": null,
            "layout": "IPY_MODEL_28c388b6f78c45eebb706231f4ca6980",
            "max": 244408911,
            "min": 0,
            "orientation": "horizontal",
            "style": "IPY_MODEL_fd28cfbe3f1847488c753aae23c08f32",
            "value": 244408911
          }
        },
        "3faaad34d7b1449f918da8be6143ac41": {
          "model_module": "@jupyter-widgets/controls",
          "model_name": "HTMLModel",
          "model_module_version": "1.5.0",
          "state": {
            "_dom_classes": [],
            "_model_module": "@jupyter-widgets/controls",
            "_model_module_version": "1.5.0",
            "_model_name": "HTMLModel",
            "_view_count": null,
            "_view_module": "@jupyter-widgets/controls",
            "_view_module_version": "1.5.0",
            "_view_name": "HTMLView",
            "description": "",
            "description_tooltip": null,
            "layout": "IPY_MODEL_c4b958cc62ee41bca9b5dff2ad9ce1ea",
            "placeholder": "​",
            "style": "IPY_MODEL_d10a839d60e54f4f95342bf212571365",
            "value": " 233M/233M [00:01&lt;00:00, 159MB/s]"
          }
        },
        "8f5c8c374a2e416b973ddafe775f7e0e": {
          "model_module": "@jupyter-widgets/base",
          "model_name": "LayoutModel",
          "model_module_version": "1.2.0",
          "state": {
            "_model_module": "@jupyter-widgets/base",
            "_model_module_version": "1.2.0",
            "_model_name": "LayoutModel",
            "_view_count": null,
            "_view_module": "@jupyter-widgets/base",
            "_view_module_version": "1.2.0",
            "_view_name": "LayoutView",
            "align_content": null,
            "align_items": null,
            "align_self": null,
            "border": null,
            "bottom": null,
            "display": null,
            "flex": null,
            "flex_flow": null,
            "grid_area": null,
            "grid_auto_columns": null,
            "grid_auto_flow": null,
            "grid_auto_rows": null,
            "grid_column": null,
            "grid_gap": null,
            "grid_row": null,
            "grid_template_areas": null,
            "grid_template_columns": null,
            "grid_template_rows": null,
            "height": null,
            "justify_content": null,
            "justify_items": null,
            "left": null,
            "margin": null,
            "max_height": null,
            "max_width": null,
            "min_height": null,
            "min_width": null,
            "object_fit": null,
            "object_position": null,
            "order": null,
            "overflow": null,
            "overflow_x": null,
            "overflow_y": null,
            "padding": null,
            "right": null,
            "top": null,
            "visibility": null,
            "width": null
          }
        },
        "561a9c98639c4afea39d889c6515c5f5": {
          "model_module": "@jupyter-widgets/base",
          "model_name": "LayoutModel",
          "model_module_version": "1.2.0",
          "state": {
            "_model_module": "@jupyter-widgets/base",
            "_model_module_version": "1.2.0",
            "_model_name": "LayoutModel",
            "_view_count": null,
            "_view_module": "@jupyter-widgets/base",
            "_view_module_version": "1.2.0",
            "_view_name": "LayoutView",
            "align_content": null,
            "align_items": null,
            "align_self": null,
            "border": null,
            "bottom": null,
            "display": null,
            "flex": null,
            "flex_flow": null,
            "grid_area": null,
            "grid_auto_columns": null,
            "grid_auto_flow": null,
            "grid_auto_rows": null,
            "grid_column": null,
            "grid_gap": null,
            "grid_row": null,
            "grid_template_areas": null,
            "grid_template_columns": null,
            "grid_template_rows": null,
            "height": null,
            "justify_content": null,
            "justify_items": null,
            "left": null,
            "margin": null,
            "max_height": null,
            "max_width": null,
            "min_height": null,
            "min_width": null,
            "object_fit": null,
            "object_position": null,
            "order": null,
            "overflow": null,
            "overflow_x": null,
            "overflow_y": null,
            "padding": null,
            "right": null,
            "top": null,
            "visibility": null,
            "width": null
          }
        },
        "174c6f2bb1c542179489fc47f003a968": {
          "model_module": "@jupyter-widgets/controls",
          "model_name": "DescriptionStyleModel",
          "model_module_version": "1.5.0",
          "state": {
            "_model_module": "@jupyter-widgets/controls",
            "_model_module_version": "1.5.0",
            "_model_name": "DescriptionStyleModel",
            "_view_count": null,
            "_view_module": "@jupyter-widgets/base",
            "_view_module_version": "1.2.0",
            "_view_name": "StyleView",
            "description_width": ""
          }
        },
        "28c388b6f78c45eebb706231f4ca6980": {
          "model_module": "@jupyter-widgets/base",
          "model_name": "LayoutModel",
          "model_module_version": "1.2.0",
          "state": {
            "_model_module": "@jupyter-widgets/base",
            "_model_module_version": "1.2.0",
            "_model_name": "LayoutModel",
            "_view_count": null,
            "_view_module": "@jupyter-widgets/base",
            "_view_module_version": "1.2.0",
            "_view_name": "LayoutView",
            "align_content": null,
            "align_items": null,
            "align_self": null,
            "border": null,
            "bottom": null,
            "display": null,
            "flex": null,
            "flex_flow": null,
            "grid_area": null,
            "grid_auto_columns": null,
            "grid_auto_flow": null,
            "grid_auto_rows": null,
            "grid_column": null,
            "grid_gap": null,
            "grid_row": null,
            "grid_template_areas": null,
            "grid_template_columns": null,
            "grid_template_rows": null,
            "height": null,
            "justify_content": null,
            "justify_items": null,
            "left": null,
            "margin": null,
            "max_height": null,
            "max_width": null,
            "min_height": null,
            "min_width": null,
            "object_fit": null,
            "object_position": null,
            "order": null,
            "overflow": null,
            "overflow_x": null,
            "overflow_y": null,
            "padding": null,
            "right": null,
            "top": null,
            "visibility": null,
            "width": null
          }
        },
        "fd28cfbe3f1847488c753aae23c08f32": {
          "model_module": "@jupyter-widgets/controls",
          "model_name": "ProgressStyleModel",
          "model_module_version": "1.5.0",
          "state": {
            "_model_module": "@jupyter-widgets/controls",
            "_model_module_version": "1.5.0",
            "_model_name": "ProgressStyleModel",
            "_view_count": null,
            "_view_module": "@jupyter-widgets/base",
            "_view_module_version": "1.2.0",
            "_view_name": "StyleView",
            "bar_color": null,
            "description_width": ""
          }
        },
        "c4b958cc62ee41bca9b5dff2ad9ce1ea": {
          "model_module": "@jupyter-widgets/base",
          "model_name": "LayoutModel",
          "model_module_version": "1.2.0",
          "state": {
            "_model_module": "@jupyter-widgets/base",
            "_model_module_version": "1.2.0",
            "_model_name": "LayoutModel",
            "_view_count": null,
            "_view_module": "@jupyter-widgets/base",
            "_view_module_version": "1.2.0",
            "_view_name": "LayoutView",
            "align_content": null,
            "align_items": null,
            "align_self": null,
            "border": null,
            "bottom": null,
            "display": null,
            "flex": null,
            "flex_flow": null,
            "grid_area": null,
            "grid_auto_columns": null,
            "grid_auto_flow": null,
            "grid_auto_rows": null,
            "grid_column": null,
            "grid_gap": null,
            "grid_row": null,
            "grid_template_areas": null,
            "grid_template_columns": null,
            "grid_template_rows": null,
            "height": null,
            "justify_content": null,
            "justify_items": null,
            "left": null,
            "margin": null,
            "max_height": null,
            "max_width": null,
            "min_height": null,
            "min_width": null,
            "object_fit": null,
            "object_position": null,
            "order": null,
            "overflow": null,
            "overflow_x": null,
            "overflow_y": null,
            "padding": null,
            "right": null,
            "top": null,
            "visibility": null,
            "width": null
          }
        },
        "d10a839d60e54f4f95342bf212571365": {
          "model_module": "@jupyter-widgets/controls",
          "model_name": "DescriptionStyleModel",
          "model_module_version": "1.5.0",
          "state": {
            "_model_module": "@jupyter-widgets/controls",
            "_model_module_version": "1.5.0",
            "_model_name": "DescriptionStyleModel",
            "_view_count": null,
            "_view_module": "@jupyter-widgets/base",
            "_view_module_version": "1.2.0",
            "_view_name": "StyleView",
            "description_width": ""
          }
        },
        "303c9687f3474146a84e85fbad1bf944": {
          "model_module": "@jupyter-widgets/controls",
          "model_name": "HBoxModel",
          "model_module_version": "1.5.0",
          "state": {
            "_dom_classes": [],
            "_model_module": "@jupyter-widgets/controls",
            "_model_module_version": "1.5.0",
            "_model_name": "HBoxModel",
            "_view_count": null,
            "_view_module": "@jupyter-widgets/controls",
            "_view_module_version": "1.5.0",
            "_view_name": "HBoxView",
            "box_style": "",
            "children": [
              "IPY_MODEL_339bee7558de45f0b7aaef4442af6dfa",
              "IPY_MODEL_9e589406f6a84ad6a77e594191fa37b7",
              "IPY_MODEL_2ca883ade07c4571bf0463d815844b73"
            ],
            "layout": "IPY_MODEL_8e64b223684c4888bf16fc3cd31b5fd9"
          }
        },
        "339bee7558de45f0b7aaef4442af6dfa": {
          "model_module": "@jupyter-widgets/controls",
          "model_name": "HTMLModel",
          "model_module_version": "1.5.0",
          "state": {
            "_dom_classes": [],
            "_model_module": "@jupyter-widgets/controls",
            "_model_module_version": "1.5.0",
            "_model_name": "HTMLModel",
            "_view_count": null,
            "_view_module": "@jupyter-widgets/controls",
            "_view_module_version": "1.5.0",
            "_view_name": "HTMLView",
            "description": "",
            "description_tooltip": null,
            "layout": "IPY_MODEL_4031ed674c82476e9fada826976190c1",
            "placeholder": "​",
            "style": "IPY_MODEL_7d03a07045db4169a44475dc27ebbbbb",
            "value": "100%"
          }
        },
        "9e589406f6a84ad6a77e594191fa37b7": {
          "model_module": "@jupyter-widgets/controls",
          "model_name": "FloatProgressModel",
          "model_module_version": "1.5.0",
          "state": {
            "_dom_classes": [],
            "_model_module": "@jupyter-widgets/controls",
            "_model_module_version": "1.5.0",
            "_model_name": "FloatProgressModel",
            "_view_count": null,
            "_view_module": "@jupyter-widgets/controls",
            "_view_module_version": "1.5.0",
            "_view_name": "ProgressView",
            "bar_style": "success",
            "description": "",
            "description_tooltip": null,
            "layout": "IPY_MODEL_4096a81c4ccd44c6b7a6e3d827ccbdc6",
            "max": 12500,
            "min": 0,
            "orientation": "horizontal",
            "style": "IPY_MODEL_c6148b73ba044d599a42d74fe2fdd12a",
            "value": 12500
          }
        },
        "2ca883ade07c4571bf0463d815844b73": {
          "model_module": "@jupyter-widgets/controls",
          "model_name": "HTMLModel",
          "model_module_version": "1.5.0",
          "state": {
            "_dom_classes": [],
            "_model_module": "@jupyter-widgets/controls",
            "_model_module_version": "1.5.0",
            "_model_name": "HTMLModel",
            "_view_count": null,
            "_view_module": "@jupyter-widgets/controls",
            "_view_module_version": "1.5.0",
            "_view_name": "HTMLView",
            "description": "",
            "description_tooltip": null,
            "layout": "IPY_MODEL_e1c9efef23cd48029952c3721847cef5",
            "placeholder": "​",
            "style": "IPY_MODEL_0b8ebcbb4c754cd5a9ab6d3b14c76992",
            "value": " 12500/12500 [52:27&lt;00:00,  4.40it/s]"
          }
        },
        "8e64b223684c4888bf16fc3cd31b5fd9": {
          "model_module": "@jupyter-widgets/base",
          "model_name": "LayoutModel",
          "model_module_version": "1.2.0",
          "state": {
            "_model_module": "@jupyter-widgets/base",
            "_model_module_version": "1.2.0",
            "_model_name": "LayoutModel",
            "_view_count": null,
            "_view_module": "@jupyter-widgets/base",
            "_view_module_version": "1.2.0",
            "_view_name": "LayoutView",
            "align_content": null,
            "align_items": null,
            "align_self": null,
            "border": null,
            "bottom": null,
            "display": null,
            "flex": null,
            "flex_flow": null,
            "grid_area": null,
            "grid_auto_columns": null,
            "grid_auto_flow": null,
            "grid_auto_rows": null,
            "grid_column": null,
            "grid_gap": null,
            "grid_row": null,
            "grid_template_areas": null,
            "grid_template_columns": null,
            "grid_template_rows": null,
            "height": null,
            "justify_content": null,
            "justify_items": null,
            "left": null,
            "margin": null,
            "max_height": null,
            "max_width": null,
            "min_height": null,
            "min_width": null,
            "object_fit": null,
            "object_position": null,
            "order": null,
            "overflow": null,
            "overflow_x": null,
            "overflow_y": null,
            "padding": null,
            "right": null,
            "top": null,
            "visibility": null,
            "width": null
          }
        },
        "4031ed674c82476e9fada826976190c1": {
          "model_module": "@jupyter-widgets/base",
          "model_name": "LayoutModel",
          "model_module_version": "1.2.0",
          "state": {
            "_model_module": "@jupyter-widgets/base",
            "_model_module_version": "1.2.0",
            "_model_name": "LayoutModel",
            "_view_count": null,
            "_view_module": "@jupyter-widgets/base",
            "_view_module_version": "1.2.0",
            "_view_name": "LayoutView",
            "align_content": null,
            "align_items": null,
            "align_self": null,
            "border": null,
            "bottom": null,
            "display": null,
            "flex": null,
            "flex_flow": null,
            "grid_area": null,
            "grid_auto_columns": null,
            "grid_auto_flow": null,
            "grid_auto_rows": null,
            "grid_column": null,
            "grid_gap": null,
            "grid_row": null,
            "grid_template_areas": null,
            "grid_template_columns": null,
            "grid_template_rows": null,
            "height": null,
            "justify_content": null,
            "justify_items": null,
            "left": null,
            "margin": null,
            "max_height": null,
            "max_width": null,
            "min_height": null,
            "min_width": null,
            "object_fit": null,
            "object_position": null,
            "order": null,
            "overflow": null,
            "overflow_x": null,
            "overflow_y": null,
            "padding": null,
            "right": null,
            "top": null,
            "visibility": null,
            "width": null
          }
        },
        "7d03a07045db4169a44475dc27ebbbbb": {
          "model_module": "@jupyter-widgets/controls",
          "model_name": "DescriptionStyleModel",
          "model_module_version": "1.5.0",
          "state": {
            "_model_module": "@jupyter-widgets/controls",
            "_model_module_version": "1.5.0",
            "_model_name": "DescriptionStyleModel",
            "_view_count": null,
            "_view_module": "@jupyter-widgets/base",
            "_view_module_version": "1.2.0",
            "_view_name": "StyleView",
            "description_width": ""
          }
        },
        "4096a81c4ccd44c6b7a6e3d827ccbdc6": {
          "model_module": "@jupyter-widgets/base",
          "model_name": "LayoutModel",
          "model_module_version": "1.2.0",
          "state": {
            "_model_module": "@jupyter-widgets/base",
            "_model_module_version": "1.2.0",
            "_model_name": "LayoutModel",
            "_view_count": null,
            "_view_module": "@jupyter-widgets/base",
            "_view_module_version": "1.2.0",
            "_view_name": "LayoutView",
            "align_content": null,
            "align_items": null,
            "align_self": null,
            "border": null,
            "bottom": null,
            "display": null,
            "flex": null,
            "flex_flow": null,
            "grid_area": null,
            "grid_auto_columns": null,
            "grid_auto_flow": null,
            "grid_auto_rows": null,
            "grid_column": null,
            "grid_gap": null,
            "grid_row": null,
            "grid_template_areas": null,
            "grid_template_columns": null,
            "grid_template_rows": null,
            "height": null,
            "justify_content": null,
            "justify_items": null,
            "left": null,
            "margin": null,
            "max_height": null,
            "max_width": null,
            "min_height": null,
            "min_width": null,
            "object_fit": null,
            "object_position": null,
            "order": null,
            "overflow": null,
            "overflow_x": null,
            "overflow_y": null,
            "padding": null,
            "right": null,
            "top": null,
            "visibility": null,
            "width": null
          }
        },
        "c6148b73ba044d599a42d74fe2fdd12a": {
          "model_module": "@jupyter-widgets/controls",
          "model_name": "ProgressStyleModel",
          "model_module_version": "1.5.0",
          "state": {
            "_model_module": "@jupyter-widgets/controls",
            "_model_module_version": "1.5.0",
            "_model_name": "ProgressStyleModel",
            "_view_count": null,
            "_view_module": "@jupyter-widgets/base",
            "_view_module_version": "1.2.0",
            "_view_name": "StyleView",
            "bar_color": null,
            "description_width": ""
          }
        },
        "e1c9efef23cd48029952c3721847cef5": {
          "model_module": "@jupyter-widgets/base",
          "model_name": "LayoutModel",
          "model_module_version": "1.2.0",
          "state": {
            "_model_module": "@jupyter-widgets/base",
            "_model_module_version": "1.2.0",
            "_model_name": "LayoutModel",
            "_view_count": null,
            "_view_module": "@jupyter-widgets/base",
            "_view_module_version": "1.2.0",
            "_view_name": "LayoutView",
            "align_content": null,
            "align_items": null,
            "align_self": null,
            "border": null,
            "bottom": null,
            "display": null,
            "flex": null,
            "flex_flow": null,
            "grid_area": null,
            "grid_auto_columns": null,
            "grid_auto_flow": null,
            "grid_auto_rows": null,
            "grid_column": null,
            "grid_gap": null,
            "grid_row": null,
            "grid_template_areas": null,
            "grid_template_columns": null,
            "grid_template_rows": null,
            "height": null,
            "justify_content": null,
            "justify_items": null,
            "left": null,
            "margin": null,
            "max_height": null,
            "max_width": null,
            "min_height": null,
            "min_width": null,
            "object_fit": null,
            "object_position": null,
            "order": null,
            "overflow": null,
            "overflow_x": null,
            "overflow_y": null,
            "padding": null,
            "right": null,
            "top": null,
            "visibility": null,
            "width": null
          }
        },
        "0b8ebcbb4c754cd5a9ab6d3b14c76992": {
          "model_module": "@jupyter-widgets/controls",
          "model_name": "DescriptionStyleModel",
          "model_module_version": "1.5.0",
          "state": {
            "_model_module": "@jupyter-widgets/controls",
            "_model_module_version": "1.5.0",
            "_model_name": "DescriptionStyleModel",
            "_view_count": null,
            "_view_module": "@jupyter-widgets/base",
            "_view_module_version": "1.2.0",
            "_view_name": "StyleView",
            "description_width": ""
          }
        },
        "aac01f8ce4d342499207383c5fc2a7cf": {
          "model_module": "@jupyter-widgets/controls",
          "model_name": "HBoxModel",
          "model_module_version": "1.5.0",
          "state": {
            "_dom_classes": [],
            "_model_module": "@jupyter-widgets/controls",
            "_model_module_version": "1.5.0",
            "_model_name": "HBoxModel",
            "_view_count": null,
            "_view_module": "@jupyter-widgets/controls",
            "_view_module_version": "1.5.0",
            "_view_name": "HBoxView",
            "box_style": "",
            "children": [
              "IPY_MODEL_cfec7ea8cca5431c9d2076659b702c91",
              "IPY_MODEL_8742e45b8fe9410fab6e3f85851f7ab9",
              "IPY_MODEL_25a9b06e0476491e826f37909c9247d6"
            ],
            "layout": "IPY_MODEL_10d0a6566fdf444b9ead6c5deba3849c"
          }
        },
        "cfec7ea8cca5431c9d2076659b702c91": {
          "model_module": "@jupyter-widgets/controls",
          "model_name": "HTMLModel",
          "model_module_version": "1.5.0",
          "state": {
            "_dom_classes": [],
            "_model_module": "@jupyter-widgets/controls",
            "_model_module_version": "1.5.0",
            "_model_name": "HTMLModel",
            "_view_count": null,
            "_view_module": "@jupyter-widgets/controls",
            "_view_module_version": "1.5.0",
            "_view_name": "HTMLView",
            "description": "",
            "description_tooltip": null,
            "layout": "IPY_MODEL_91fa689c08714ed9b003485c35ab0d4b",
            "placeholder": "​",
            "style": "IPY_MODEL_fc9aec12e92f4073b002b4bd5cd0778e",
            "value": "100%"
          }
        },
        "8742e45b8fe9410fab6e3f85851f7ab9": {
          "model_module": "@jupyter-widgets/controls",
          "model_name": "FloatProgressModel",
          "model_module_version": "1.5.0",
          "state": {
            "_dom_classes": [],
            "_model_module": "@jupyter-widgets/controls",
            "_model_module_version": "1.5.0",
            "_model_name": "FloatProgressModel",
            "_view_count": null,
            "_view_module": "@jupyter-widgets/controls",
            "_view_module_version": "1.5.0",
            "_view_name": "ProgressView",
            "bar_style": "success",
            "description": "",
            "description_tooltip": null,
            "layout": "IPY_MODEL_4135df3c342d4f0d88039a6a94205888",
            "max": 2500,
            "min": 0,
            "orientation": "horizontal",
            "style": "IPY_MODEL_df42171173b14954929c0e09ac9022c6",
            "value": 2500
          }
        },
        "25a9b06e0476491e826f37909c9247d6": {
          "model_module": "@jupyter-widgets/controls",
          "model_name": "HTMLModel",
          "model_module_version": "1.5.0",
          "state": {
            "_dom_classes": [],
            "_model_module": "@jupyter-widgets/controls",
            "_model_module_version": "1.5.0",
            "_model_name": "HTMLModel",
            "_view_count": null,
            "_view_module": "@jupyter-widgets/controls",
            "_view_module_version": "1.5.0",
            "_view_name": "HTMLView",
            "description": "",
            "description_tooltip": null,
            "layout": "IPY_MODEL_e3667d6e8d9145dfab61b5034ad3d170",
            "placeholder": "​",
            "style": "IPY_MODEL_7e8be627d2fa4254a35c1fc4cffcac99",
            "value": " 2500/2500 [04:12&lt;00:00,  9.10it/s]"
          }
        },
        "10d0a6566fdf444b9ead6c5deba3849c": {
          "model_module": "@jupyter-widgets/base",
          "model_name": "LayoutModel",
          "model_module_version": "1.2.0",
          "state": {
            "_model_module": "@jupyter-widgets/base",
            "_model_module_version": "1.2.0",
            "_model_name": "LayoutModel",
            "_view_count": null,
            "_view_module": "@jupyter-widgets/base",
            "_view_module_version": "1.2.0",
            "_view_name": "LayoutView",
            "align_content": null,
            "align_items": null,
            "align_self": null,
            "border": null,
            "bottom": null,
            "display": null,
            "flex": null,
            "flex_flow": null,
            "grid_area": null,
            "grid_auto_columns": null,
            "grid_auto_flow": null,
            "grid_auto_rows": null,
            "grid_column": null,
            "grid_gap": null,
            "grid_row": null,
            "grid_template_areas": null,
            "grid_template_columns": null,
            "grid_template_rows": null,
            "height": null,
            "justify_content": null,
            "justify_items": null,
            "left": null,
            "margin": null,
            "max_height": null,
            "max_width": null,
            "min_height": null,
            "min_width": null,
            "object_fit": null,
            "object_position": null,
            "order": null,
            "overflow": null,
            "overflow_x": null,
            "overflow_y": null,
            "padding": null,
            "right": null,
            "top": null,
            "visibility": null,
            "width": null
          }
        },
        "91fa689c08714ed9b003485c35ab0d4b": {
          "model_module": "@jupyter-widgets/base",
          "model_name": "LayoutModel",
          "model_module_version": "1.2.0",
          "state": {
            "_model_module": "@jupyter-widgets/base",
            "_model_module_version": "1.2.0",
            "_model_name": "LayoutModel",
            "_view_count": null,
            "_view_module": "@jupyter-widgets/base",
            "_view_module_version": "1.2.0",
            "_view_name": "LayoutView",
            "align_content": null,
            "align_items": null,
            "align_self": null,
            "border": null,
            "bottom": null,
            "display": null,
            "flex": null,
            "flex_flow": null,
            "grid_area": null,
            "grid_auto_columns": null,
            "grid_auto_flow": null,
            "grid_auto_rows": null,
            "grid_column": null,
            "grid_gap": null,
            "grid_row": null,
            "grid_template_areas": null,
            "grid_template_columns": null,
            "grid_template_rows": null,
            "height": null,
            "justify_content": null,
            "justify_items": null,
            "left": null,
            "margin": null,
            "max_height": null,
            "max_width": null,
            "min_height": null,
            "min_width": null,
            "object_fit": null,
            "object_position": null,
            "order": null,
            "overflow": null,
            "overflow_x": null,
            "overflow_y": null,
            "padding": null,
            "right": null,
            "top": null,
            "visibility": null,
            "width": null
          }
        },
        "fc9aec12e92f4073b002b4bd5cd0778e": {
          "model_module": "@jupyter-widgets/controls",
          "model_name": "DescriptionStyleModel",
          "model_module_version": "1.5.0",
          "state": {
            "_model_module": "@jupyter-widgets/controls",
            "_model_module_version": "1.5.0",
            "_model_name": "DescriptionStyleModel",
            "_view_count": null,
            "_view_module": "@jupyter-widgets/base",
            "_view_module_version": "1.2.0",
            "_view_name": "StyleView",
            "description_width": ""
          }
        },
        "4135df3c342d4f0d88039a6a94205888": {
          "model_module": "@jupyter-widgets/base",
          "model_name": "LayoutModel",
          "model_module_version": "1.2.0",
          "state": {
            "_model_module": "@jupyter-widgets/base",
            "_model_module_version": "1.2.0",
            "_model_name": "LayoutModel",
            "_view_count": null,
            "_view_module": "@jupyter-widgets/base",
            "_view_module_version": "1.2.0",
            "_view_name": "LayoutView",
            "align_content": null,
            "align_items": null,
            "align_self": null,
            "border": null,
            "bottom": null,
            "display": null,
            "flex": null,
            "flex_flow": null,
            "grid_area": null,
            "grid_auto_columns": null,
            "grid_auto_flow": null,
            "grid_auto_rows": null,
            "grid_column": null,
            "grid_gap": null,
            "grid_row": null,
            "grid_template_areas": null,
            "grid_template_columns": null,
            "grid_template_rows": null,
            "height": null,
            "justify_content": null,
            "justify_items": null,
            "left": null,
            "margin": null,
            "max_height": null,
            "max_width": null,
            "min_height": null,
            "min_width": null,
            "object_fit": null,
            "object_position": null,
            "order": null,
            "overflow": null,
            "overflow_x": null,
            "overflow_y": null,
            "padding": null,
            "right": null,
            "top": null,
            "visibility": null,
            "width": null
          }
        },
        "df42171173b14954929c0e09ac9022c6": {
          "model_module": "@jupyter-widgets/controls",
          "model_name": "ProgressStyleModel",
          "model_module_version": "1.5.0",
          "state": {
            "_model_module": "@jupyter-widgets/controls",
            "_model_module_version": "1.5.0",
            "_model_name": "ProgressStyleModel",
            "_view_count": null,
            "_view_module": "@jupyter-widgets/base",
            "_view_module_version": "1.2.0",
            "_view_name": "StyleView",
            "bar_color": null,
            "description_width": ""
          }
        },
        "e3667d6e8d9145dfab61b5034ad3d170": {
          "model_module": "@jupyter-widgets/base",
          "model_name": "LayoutModel",
          "model_module_version": "1.2.0",
          "state": {
            "_model_module": "@jupyter-widgets/base",
            "_model_module_version": "1.2.0",
            "_model_name": "LayoutModel",
            "_view_count": null,
            "_view_module": "@jupyter-widgets/base",
            "_view_module_version": "1.2.0",
            "_view_name": "LayoutView",
            "align_content": null,
            "align_items": null,
            "align_self": null,
            "border": null,
            "bottom": null,
            "display": null,
            "flex": null,
            "flex_flow": null,
            "grid_area": null,
            "grid_auto_columns": null,
            "grid_auto_flow": null,
            "grid_auto_rows": null,
            "grid_column": null,
            "grid_gap": null,
            "grid_row": null,
            "grid_template_areas": null,
            "grid_template_columns": null,
            "grid_template_rows": null,
            "height": null,
            "justify_content": null,
            "justify_items": null,
            "left": null,
            "margin": null,
            "max_height": null,
            "max_width": null,
            "min_height": null,
            "min_width": null,
            "object_fit": null,
            "object_position": null,
            "order": null,
            "overflow": null,
            "overflow_x": null,
            "overflow_y": null,
            "padding": null,
            "right": null,
            "top": null,
            "visibility": null,
            "width": null
          }
        },
        "7e8be627d2fa4254a35c1fc4cffcac99": {
          "model_module": "@jupyter-widgets/controls",
          "model_name": "DescriptionStyleModel",
          "model_module_version": "1.5.0",
          "state": {
            "_model_module": "@jupyter-widgets/controls",
            "_model_module_version": "1.5.0",
            "_model_name": "DescriptionStyleModel",
            "_view_count": null,
            "_view_module": "@jupyter-widgets/base",
            "_view_module_version": "1.2.0",
            "_view_name": "StyleView",
            "description_width": ""
          }
        },
        "b048f1284cea4346b940839a375b9c02": {
          "model_module": "@jupyter-widgets/controls",
          "model_name": "HBoxModel",
          "model_module_version": "1.5.0",
          "state": {
            "_dom_classes": [],
            "_model_module": "@jupyter-widgets/controls",
            "_model_module_version": "1.5.0",
            "_model_name": "HBoxModel",
            "_view_count": null,
            "_view_module": "@jupyter-widgets/controls",
            "_view_module_version": "1.5.0",
            "_view_name": "HBoxView",
            "box_style": "",
            "children": [
              "IPY_MODEL_79b065004a394df9ac41eb0439ad13d9",
              "IPY_MODEL_33825edaf90841a89b58611bd1b05147",
              "IPY_MODEL_0d711276479349aeb2f5ca7da351fe50"
            ],
            "layout": "IPY_MODEL_1e95fdd13d7743aab6c577cd1032b166"
          }
        },
        "79b065004a394df9ac41eb0439ad13d9": {
          "model_module": "@jupyter-widgets/controls",
          "model_name": "HTMLModel",
          "model_module_version": "1.5.0",
          "state": {
            "_dom_classes": [],
            "_model_module": "@jupyter-widgets/controls",
            "_model_module_version": "1.5.0",
            "_model_name": "HTMLModel",
            "_view_count": null,
            "_view_module": "@jupyter-widgets/controls",
            "_view_module_version": "1.5.0",
            "_view_name": "HTMLView",
            "description": "",
            "description_tooltip": null,
            "layout": "IPY_MODEL_30e9338e746b41c3b3b723c7ee3ff478",
            "placeholder": "​",
            "style": "IPY_MODEL_cc2b1cbb6b444983833afa39a73a1b27",
            "value": "100%"
          }
        },
        "33825edaf90841a89b58611bd1b05147": {
          "model_module": "@jupyter-widgets/controls",
          "model_name": "FloatProgressModel",
          "model_module_version": "1.5.0",
          "state": {
            "_dom_classes": [],
            "_model_module": "@jupyter-widgets/controls",
            "_model_module_version": "1.5.0",
            "_model_name": "FloatProgressModel",
            "_view_count": null,
            "_view_module": "@jupyter-widgets/controls",
            "_view_module_version": "1.5.0",
            "_view_name": "ProgressView",
            "bar_style": "success",
            "description": "",
            "description_tooltip": null,
            "layout": "IPY_MODEL_c08c60f8ee72408a86cc4311a0f30c56",
            "max": 2500,
            "min": 0,
            "orientation": "horizontal",
            "style": "IPY_MODEL_830abc41656a4464bf09e5159fdbc8c1",
            "value": 2500
          }
        },
        "0d711276479349aeb2f5ca7da351fe50": {
          "model_module": "@jupyter-widgets/controls",
          "model_name": "HTMLModel",
          "model_module_version": "1.5.0",
          "state": {
            "_dom_classes": [],
            "_model_module": "@jupyter-widgets/controls",
            "_model_module_version": "1.5.0",
            "_model_name": "HTMLModel",
            "_view_count": null,
            "_view_module": "@jupyter-widgets/controls",
            "_view_module_version": "1.5.0",
            "_view_name": "HTMLView",
            "description": "",
            "description_tooltip": null,
            "layout": "IPY_MODEL_e87619e44c3d4d98909c5eb02847e5b9",
            "placeholder": "​",
            "style": "IPY_MODEL_783aa87e4b6e419e8a392f4f58299307",
            "value": " 2500/2500 [06:10&lt;00:00,  7.40it/s]"
          }
        },
        "1e95fdd13d7743aab6c577cd1032b166": {
          "model_module": "@jupyter-widgets/base",
          "model_name": "LayoutModel",
          "model_module_version": "1.2.0",
          "state": {
            "_model_module": "@jupyter-widgets/base",
            "_model_module_version": "1.2.0",
            "_model_name": "LayoutModel",
            "_view_count": null,
            "_view_module": "@jupyter-widgets/base",
            "_view_module_version": "1.2.0",
            "_view_name": "LayoutView",
            "align_content": null,
            "align_items": null,
            "align_self": null,
            "border": null,
            "bottom": null,
            "display": null,
            "flex": null,
            "flex_flow": null,
            "grid_area": null,
            "grid_auto_columns": null,
            "grid_auto_flow": null,
            "grid_auto_rows": null,
            "grid_column": null,
            "grid_gap": null,
            "grid_row": null,
            "grid_template_areas": null,
            "grid_template_columns": null,
            "grid_template_rows": null,
            "height": null,
            "justify_content": null,
            "justify_items": null,
            "left": null,
            "margin": null,
            "max_height": null,
            "max_width": null,
            "min_height": null,
            "min_width": null,
            "object_fit": null,
            "object_position": null,
            "order": null,
            "overflow": null,
            "overflow_x": null,
            "overflow_y": null,
            "padding": null,
            "right": null,
            "top": null,
            "visibility": null,
            "width": null
          }
        },
        "30e9338e746b41c3b3b723c7ee3ff478": {
          "model_module": "@jupyter-widgets/base",
          "model_name": "LayoutModel",
          "model_module_version": "1.2.0",
          "state": {
            "_model_module": "@jupyter-widgets/base",
            "_model_module_version": "1.2.0",
            "_model_name": "LayoutModel",
            "_view_count": null,
            "_view_module": "@jupyter-widgets/base",
            "_view_module_version": "1.2.0",
            "_view_name": "LayoutView",
            "align_content": null,
            "align_items": null,
            "align_self": null,
            "border": null,
            "bottom": null,
            "display": null,
            "flex": null,
            "flex_flow": null,
            "grid_area": null,
            "grid_auto_columns": null,
            "grid_auto_flow": null,
            "grid_auto_rows": null,
            "grid_column": null,
            "grid_gap": null,
            "grid_row": null,
            "grid_template_areas": null,
            "grid_template_columns": null,
            "grid_template_rows": null,
            "height": null,
            "justify_content": null,
            "justify_items": null,
            "left": null,
            "margin": null,
            "max_height": null,
            "max_width": null,
            "min_height": null,
            "min_width": null,
            "object_fit": null,
            "object_position": null,
            "order": null,
            "overflow": null,
            "overflow_x": null,
            "overflow_y": null,
            "padding": null,
            "right": null,
            "top": null,
            "visibility": null,
            "width": null
          }
        },
        "cc2b1cbb6b444983833afa39a73a1b27": {
          "model_module": "@jupyter-widgets/controls",
          "model_name": "DescriptionStyleModel",
          "model_module_version": "1.5.0",
          "state": {
            "_model_module": "@jupyter-widgets/controls",
            "_model_module_version": "1.5.0",
            "_model_name": "DescriptionStyleModel",
            "_view_count": null,
            "_view_module": "@jupyter-widgets/base",
            "_view_module_version": "1.2.0",
            "_view_name": "StyleView",
            "description_width": ""
          }
        },
        "c08c60f8ee72408a86cc4311a0f30c56": {
          "model_module": "@jupyter-widgets/base",
          "model_name": "LayoutModel",
          "model_module_version": "1.2.0",
          "state": {
            "_model_module": "@jupyter-widgets/base",
            "_model_module_version": "1.2.0",
            "_model_name": "LayoutModel",
            "_view_count": null,
            "_view_module": "@jupyter-widgets/base",
            "_view_module_version": "1.2.0",
            "_view_name": "LayoutView",
            "align_content": null,
            "align_items": null,
            "align_self": null,
            "border": null,
            "bottom": null,
            "display": null,
            "flex": null,
            "flex_flow": null,
            "grid_area": null,
            "grid_auto_columns": null,
            "grid_auto_flow": null,
            "grid_auto_rows": null,
            "grid_column": null,
            "grid_gap": null,
            "grid_row": null,
            "grid_template_areas": null,
            "grid_template_columns": null,
            "grid_template_rows": null,
            "height": null,
            "justify_content": null,
            "justify_items": null,
            "left": null,
            "margin": null,
            "max_height": null,
            "max_width": null,
            "min_height": null,
            "min_width": null,
            "object_fit": null,
            "object_position": null,
            "order": null,
            "overflow": null,
            "overflow_x": null,
            "overflow_y": null,
            "padding": null,
            "right": null,
            "top": null,
            "visibility": null,
            "width": null
          }
        },
        "830abc41656a4464bf09e5159fdbc8c1": {
          "model_module": "@jupyter-widgets/controls",
          "model_name": "ProgressStyleModel",
          "model_module_version": "1.5.0",
          "state": {
            "_model_module": "@jupyter-widgets/controls",
            "_model_module_version": "1.5.0",
            "_model_name": "ProgressStyleModel",
            "_view_count": null,
            "_view_module": "@jupyter-widgets/base",
            "_view_module_version": "1.2.0",
            "_view_name": "StyleView",
            "bar_color": null,
            "description_width": ""
          }
        },
        "e87619e44c3d4d98909c5eb02847e5b9": {
          "model_module": "@jupyter-widgets/base",
          "model_name": "LayoutModel",
          "model_module_version": "1.2.0",
          "state": {
            "_model_module": "@jupyter-widgets/base",
            "_model_module_version": "1.2.0",
            "_model_name": "LayoutModel",
            "_view_count": null,
            "_view_module": "@jupyter-widgets/base",
            "_view_module_version": "1.2.0",
            "_view_name": "LayoutView",
            "align_content": null,
            "align_items": null,
            "align_self": null,
            "border": null,
            "bottom": null,
            "display": null,
            "flex": null,
            "flex_flow": null,
            "grid_area": null,
            "grid_auto_columns": null,
            "grid_auto_flow": null,
            "grid_auto_rows": null,
            "grid_column": null,
            "grid_gap": null,
            "grid_row": null,
            "grid_template_areas": null,
            "grid_template_columns": null,
            "grid_template_rows": null,
            "height": null,
            "justify_content": null,
            "justify_items": null,
            "left": null,
            "margin": null,
            "max_height": null,
            "max_width": null,
            "min_height": null,
            "min_width": null,
            "object_fit": null,
            "object_position": null,
            "order": null,
            "overflow": null,
            "overflow_x": null,
            "overflow_y": null,
            "padding": null,
            "right": null,
            "top": null,
            "visibility": null,
            "width": null
          }
        },
        "783aa87e4b6e419e8a392f4f58299307": {
          "model_module": "@jupyter-widgets/controls",
          "model_name": "DescriptionStyleModel",
          "model_module_version": "1.5.0",
          "state": {
            "_model_module": "@jupyter-widgets/controls",
            "_model_module_version": "1.5.0",
            "_model_name": "DescriptionStyleModel",
            "_view_count": null,
            "_view_module": "@jupyter-widgets/base",
            "_view_module_version": "1.2.0",
            "_view_name": "StyleView",
            "description_width": ""
          }
        }
      }
    }
  },
  "nbformat": 4,
  "nbformat_minor": 0
}